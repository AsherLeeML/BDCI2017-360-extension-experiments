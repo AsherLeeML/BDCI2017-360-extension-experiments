{
 "cells": [
  {
   "cell_type": "markdown",
   "metadata": {},
   "source": [
    "# Word2vec WV training with Jieba Cut"
   ]
  },
  {
   "cell_type": "code",
   "execution_count": 1,
   "metadata": {
    "ExecuteTime": {
     "end_time": "2018-07-30T02:06:42.489528Z",
     "start_time": "2018-07-30T02:06:38.224127Z"
    }
   },
   "outputs": [
    {
     "name": "stderr",
     "output_type": "stream",
     "text": [
      "Using TensorFlow backend.\n",
      "2018-07-30 10:06:39 AM:INFO:'pattern' package not found; tag filters are not available for English\n",
      "Building prefix dict from the default dictionary ...\n",
      "2018-07-30 10:06:39 AM:DEBUG:Building prefix dict from the default dictionary ...\n",
      "Loading model from cache /tmp/jieba.cache\n",
      "2018-07-30 10:06:39 AM:DEBUG:Loading model from cache /tmp/jieba.cache\n",
      "Loading model cost 0.587 seconds.\n",
      "2018-07-30 10:06:40 AM:DEBUG:Loading model cost 0.587 seconds.\n",
      "Prefix dict has been built succesfully.\n",
      "2018-07-30 10:06:40 AM:DEBUG:Prefix dict has been built succesfully.\n"
     ]
    }
   ],
   "source": [
    "import os\n",
    "\n",
    "import sys\n",
    "sys.path.append('..')\n",
    "from config import *\n",
    "import multiprocessing\n",
    "from gensim.models import Word2Vec\n",
    "from gensim.models.word2vec import LineSentence\n",
    "from joblib import Parallel, delayed\n",
    "from data import *\n"
   ]
  },
  {
   "cell_type": "code",
   "execution_count": 2,
   "metadata": {
    "ExecuteTime": {
     "end_time": "2018-07-30T02:06:42.515093Z",
     "start_time": "2018-07-30T02:06:42.498358Z"
    },
    "collapsed": true
   },
   "outputs": [],
   "source": [
    "%reload_ext autoreload\n",
    "%autoreload 2"
   ]
  },
  {
   "cell_type": "code",
   "execution_count": 9,
   "metadata": {
    "ExecuteTime": {
     "end_time": "2018-07-30T02:10:28.600213Z",
     "start_time": "2018-07-30T02:10:21.362152Z"
    }
   },
   "outputs": [],
   "source": [
    "DIM = 256\n",
    "train_file = get_train_data()\n",
    "w2v_data_frame = train_file['content']\n",
    "w2v_data_frame.to_csv(Config.cache_path+'w2v.csv', index=False, sep='\\t')"
   ]
  },
  {
   "cell_type": "code",
   "execution_count": 15,
   "metadata": {
    "ExecuteTime": {
     "end_time": "2018-07-30T02:15:10.847679Z",
     "start_time": "2018-07-30T02:15:10.832292Z"
    },
    "collapsed": true
   },
   "outputs": [],
   "source": [
    "def applyPara(contents, func, n_thread):\n",
    "    with Parallel(n_jobs=n_thread) as parallel:\n",
    "        parallel(delayed(func)(c) for c in contents)\n",
    "def word_cut(content):\n",
    "    with open(Config.cache_path+'w2v_word.txt', 'a+') as f:\n",
    "        f.writelines(\" \".join(jieba.cut(content)))\n",
    "        f.writelines(\"\\n\")"
   ]
  },
  {
   "cell_type": "code",
   "execution_count": 16,
   "metadata": {
    "ExecuteTime": {
     "end_time": "2018-07-30T02:18:08.003926Z",
     "start_time": "2018-07-30T02:15:11.840979Z"
    }
   },
   "outputs": [],
   "source": [
    "contents = w2v_data_frame.values\n",
    "applyPara(contents, word_cut, 8)"
   ]
  },
  {
   "cell_type": "code",
   "execution_count": 17,
   "metadata": {
    "ExecuteTime": {
     "end_time": "2018-07-30T02:27:58.595828Z",
     "start_time": "2018-07-30T02:18:08.081329Z"
    },
    "collapsed": true
   },
   "outputs": [
    {
     "name": "stderr",
     "output_type": "stream",
     "text": [
      "2018-07-30 10:18:08 AM:INFO:collecting all words and their counts\n",
      "2018-07-30 10:18:08 AM:INFO:PROGRESS: at sentence #0, processed 0 words, keeping 0 word types\n"
     ]
    },
    {
     "name": "stdout",
     "output_type": "stream",
     "text": [
      "Training w2v\n"
     ]
    },
    {
     "name": "stderr",
     "output_type": "stream",
     "text": [
      "2018-07-30 10:18:09 AM:INFO:PROGRESS: at sentence #10000, processed 6658974 words, keeping 233469 word types\n",
      "2018-07-30 10:18:11 AM:INFO:PROGRESS: at sentence #20000, processed 13420630 words, keeping 341932 word types\n",
      "2018-07-30 10:18:13 AM:INFO:PROGRESS: at sentence #30000, processed 20190144 words, keeping 426062 word types\n",
      "2018-07-30 10:18:15 AM:INFO:PROGRESS: at sentence #40000, processed 26981401 words, keeping 499584 word types\n",
      "2018-07-30 10:18:16 AM:INFO:PROGRESS: at sentence #50000, processed 33702410 words, keeping 567083 word types\n",
      "2018-07-30 10:18:18 AM:INFO:PROGRESS: at sentence #60000, processed 39759657 words, keeping 621949 word types\n",
      "2018-07-30 10:18:20 AM:INFO:PROGRESS: at sentence #70000, processed 45788999 words, keeping 673145 word types\n",
      "2018-07-30 10:18:21 AM:INFO:PROGRESS: at sentence #80000, processed 51774446 words, keeping 720656 word types\n",
      "2018-07-30 10:18:23 AM:INFO:PROGRESS: at sentence #90000, processed 57827999 words, keeping 766995 word types\n",
      "2018-07-30 10:18:25 AM:INFO:PROGRESS: at sentence #100000, processed 63874577 words, keeping 811782 word types\n",
      "2018-07-30 10:18:26 AM:INFO:collected 853038 word types from a corpus of 69904930 raw words and 109986 sentences\n",
      "2018-07-30 10:18:26 AM:INFO:Loading a fresh vocabulary\n",
      "2018-07-30 10:18:27 AM:INFO:min_count=5 retains 235144 unique words (27% of original 853038, drops 617894)\n",
      "2018-07-30 10:18:27 AM:INFO:min_count=5 leaves 68963571 word corpus (98% of original 69904930, drops 941359)\n",
      "2018-07-30 10:18:27 AM:INFO:deleting the raw counts dictionary of 853038 items\n",
      "2018-07-30 10:18:28 AM:INFO:sample=0.001 downsamples 19 most-common words\n",
      "2018-07-30 10:18:28 AM:INFO:downsampling leaves estimated 56932859 word corpus (82.6% of prior 68963571)\n",
      "2018-07-30 10:18:28 AM:INFO:estimated required memory for 235144 words and 256 dimensions: 599146912 bytes\n",
      "2018-07-30 10:18:28 AM:INFO:resetting layer weights\n",
      "2018-07-30 10:18:30 AM:INFO:training model with 8 workers on 235144 vocabulary and 256 features, using sg=0 hs=0 sample=0.001 negative=5 window=5\n",
      "2018-07-30 10:18:31 AM:INFO:PROGRESS: at 0.18% examples, 524269 words/s, in_qsize 14, out_qsize 1\n",
      "2018-07-30 10:18:32 AM:INFO:PROGRESS: at 0.38% examples, 557940 words/s, in_qsize 15, out_qsize 0\n",
      "2018-07-30 10:18:33 AM:INFO:PROGRESS: at 0.58% examples, 570503 words/s, in_qsize 15, out_qsize 0\n",
      "2018-07-30 10:18:34 AM:INFO:PROGRESS: at 0.76% examples, 566233 words/s, in_qsize 14, out_qsize 1\n",
      "2018-07-30 10:18:36 AM:INFO:PROGRESS: at 0.95% examples, 561337 words/s, in_qsize 15, out_qsize 0\n",
      "2018-07-30 10:18:37 AM:INFO:PROGRESS: at 1.14% examples, 556522 words/s, in_qsize 15, out_qsize 0\n",
      "2018-07-30 10:18:38 AM:INFO:PROGRESS: at 1.32% examples, 555052 words/s, in_qsize 15, out_qsize 0\n",
      "2018-07-30 10:18:39 AM:INFO:PROGRESS: at 1.50% examples, 553363 words/s, in_qsize 14, out_qsize 1\n",
      "2018-07-30 10:18:40 AM:INFO:PROGRESS: at 1.69% examples, 552063 words/s, in_qsize 15, out_qsize 0\n",
      "2018-07-30 10:18:41 AM:INFO:PROGRESS: at 1.87% examples, 550900 words/s, in_qsize 15, out_qsize 0\n",
      "2018-07-30 10:18:42 AM:INFO:PROGRESS: at 2.04% examples, 550359 words/s, in_qsize 15, out_qsize 0\n",
      "2018-07-30 10:18:43 AM:INFO:PROGRESS: at 2.19% examples, 539330 words/s, in_qsize 15, out_qsize 0\n",
      "2018-07-30 10:18:44 AM:INFO:PROGRESS: at 2.32% examples, 529348 words/s, in_qsize 15, out_qsize 0\n",
      "2018-07-30 10:18:45 AM:INFO:PROGRESS: at 2.45% examples, 519044 words/s, in_qsize 15, out_qsize 0\n",
      "2018-07-30 10:18:46 AM:INFO:PROGRESS: at 2.59% examples, 510905 words/s, in_qsize 15, out_qsize 0\n",
      "2018-07-30 10:18:47 AM:INFO:PROGRESS: at 2.77% examples, 512830 words/s, in_qsize 15, out_qsize 0\n",
      "2018-07-30 10:18:48 AM:INFO:PROGRESS: at 2.96% examples, 517846 words/s, in_qsize 15, out_qsize 0\n",
      "2018-07-30 10:18:49 AM:INFO:PROGRESS: at 3.18% examples, 522261 words/s, in_qsize 15, out_qsize 0\n",
      "2018-07-30 10:18:50 AM:INFO:PROGRESS: at 3.36% examples, 526092 words/s, in_qsize 15, out_qsize 0\n",
      "2018-07-30 10:18:51 AM:INFO:PROGRESS: at 3.55% examples, 527521 words/s, in_qsize 15, out_qsize 0\n",
      "2018-07-30 10:18:52 AM:INFO:PROGRESS: at 3.73% examples, 527646 words/s, in_qsize 15, out_qsize 0\n",
      "2018-07-30 10:18:53 AM:INFO:PROGRESS: at 3.91% examples, 529163 words/s, in_qsize 15, out_qsize 0\n",
      "2018-07-30 10:18:54 AM:INFO:PROGRESS: at 4.08% examples, 529435 words/s, in_qsize 15, out_qsize 0\n",
      "2018-07-30 10:18:55 AM:INFO:PROGRESS: at 4.22% examples, 524932 words/s, in_qsize 15, out_qsize 0\n",
      "2018-07-30 10:18:56 AM:INFO:PROGRESS: at 4.35% examples, 518711 words/s, in_qsize 13, out_qsize 2\n",
      "2018-07-30 10:18:57 AM:INFO:PROGRESS: at 4.48% examples, 514327 words/s, in_qsize 15, out_qsize 0\n",
      "2018-07-30 10:18:58 AM:INFO:PROGRESS: at 4.61% examples, 510371 words/s, in_qsize 16, out_qsize 0\n",
      "2018-07-30 10:18:59 AM:INFO:PROGRESS: at 4.80% examples, 511899 words/s, in_qsize 15, out_qsize 0\n",
      "2018-07-30 10:19:00 AM:INFO:PROGRESS: at 5.00% examples, 515039 words/s, in_qsize 15, out_qsize 0\n",
      "2018-07-30 10:19:01 AM:INFO:PROGRESS: at 5.22% examples, 517681 words/s, in_qsize 15, out_qsize 0\n",
      "2018-07-30 10:19:02 AM:INFO:PROGRESS: at 5.41% examples, 520166 words/s, in_qsize 15, out_qsize 0\n",
      "2018-07-30 10:19:03 AM:INFO:PROGRESS: at 5.59% examples, 520860 words/s, in_qsize 15, out_qsize 0\n",
      "2018-07-30 10:19:04 AM:INFO:PROGRESS: at 5.78% examples, 522014 words/s, in_qsize 15, out_qsize 0\n",
      "2018-07-30 10:19:05 AM:INFO:PROGRESS: at 5.96% examples, 522564 words/s, in_qsize 15, out_qsize 0\n",
      "2018-07-30 10:19:06 AM:INFO:PROGRESS: at 6.14% examples, 522836 words/s, in_qsize 15, out_qsize 0\n",
      "2018-07-30 10:19:07 AM:INFO:PROGRESS: at 6.27% examples, 519543 words/s, in_qsize 15, out_qsize 0\n",
      "2018-07-30 10:19:08 AM:INFO:PROGRESS: at 6.40% examples, 516291 words/s, in_qsize 15, out_qsize 0\n",
      "2018-07-30 10:19:09 AM:INFO:PROGRESS: at 6.53% examples, 513271 words/s, in_qsize 15, out_qsize 0\n",
      "2018-07-30 10:19:10 AM:INFO:PROGRESS: at 6.67% examples, 510520 words/s, in_qsize 15, out_qsize 0\n",
      "2018-07-30 10:19:11 AM:INFO:PROGRESS: at 6.86% examples, 512405 words/s, in_qsize 15, out_qsize 0\n",
      "2018-07-30 10:19:12 AM:INFO:PROGRESS: at 7.06% examples, 514592 words/s, in_qsize 15, out_qsize 0\n",
      "2018-07-30 10:19:13 AM:INFO:PROGRESS: at 7.26% examples, 516469 words/s, in_qsize 14, out_qsize 1\n",
      "2018-07-30 10:19:14 AM:INFO:PROGRESS: at 7.46% examples, 518195 words/s, in_qsize 15, out_qsize 0\n",
      "2018-07-30 10:19:15 AM:INFO:PROGRESS: at 7.64% examples, 518745 words/s, in_qsize 15, out_qsize 0\n",
      "2018-07-30 10:19:16 AM:INFO:PROGRESS: at 7.82% examples, 519098 words/s, in_qsize 14, out_qsize 1\n",
      "2018-07-30 10:19:17 AM:INFO:PROGRESS: at 8.01% examples, 519884 words/s, in_qsize 14, out_qsize 1\n",
      "2018-07-30 10:19:18 AM:INFO:PROGRESS: at 8.18% examples, 519942 words/s, in_qsize 15, out_qsize 0\n",
      "2018-07-30 10:19:19 AM:INFO:PROGRESS: at 8.31% examples, 517527 words/s, in_qsize 15, out_qsize 0\n",
      "2018-07-30 10:19:20 AM:INFO:PROGRESS: at 8.45% examples, 514981 words/s, in_qsize 15, out_qsize 0\n",
      "2018-07-30 10:19:21 AM:INFO:PROGRESS: at 8.58% examples, 512512 words/s, in_qsize 15, out_qsize 0\n",
      "2018-07-30 10:19:22 AM:INFO:PROGRESS: at 8.74% examples, 511331 words/s, in_qsize 15, out_qsize 0\n",
      "2018-07-30 10:19:23 AM:INFO:PROGRESS: at 8.94% examples, 512923 words/s, in_qsize 15, out_qsize 0\n",
      "2018-07-30 10:19:24 AM:INFO:PROGRESS: at 9.15% examples, 514519 words/s, in_qsize 15, out_qsize 0\n",
      "2018-07-30 10:19:25 AM:INFO:PROGRESS: at 9.37% examples, 515885 words/s, in_qsize 15, out_qsize 0\n",
      "2018-07-30 10:19:26 AM:INFO:PROGRESS: at 9.58% examples, 517001 words/s, in_qsize 15, out_qsize 0\n",
      "2018-07-30 10:19:27 AM:INFO:PROGRESS: at 9.78% examples, 517465 words/s, in_qsize 15, out_qsize 0\n",
      "2018-07-30 10:19:28 AM:INFO:PROGRESS: at 9.99% examples, 518057 words/s, in_qsize 15, out_qsize 0\n",
      "2018-07-30 10:19:29 AM:INFO:PROGRESS: at 10.19% examples, 518718 words/s, in_qsize 15, out_qsize 0\n",
      "2018-07-30 10:19:30 AM:INFO:PROGRESS: at 10.38% examples, 518343 words/s, in_qsize 15, out_qsize 0\n",
      "2018-07-30 10:19:31 AM:INFO:PROGRESS: at 10.53% examples, 516423 words/s, in_qsize 15, out_qsize 0\n",
      "2018-07-30 10:19:32 AM:INFO:PROGRESS: at 10.68% examples, 514575 words/s, in_qsize 15, out_qsize 0\n",
      "2018-07-30 10:19:33 AM:INFO:PROGRESS: at 10.84% examples, 512909 words/s, in_qsize 15, out_qsize 0\n",
      "2018-07-30 10:19:34 AM:INFO:PROGRESS: at 10.99% examples, 511001 words/s, in_qsize 15, out_qsize 0\n"
     ]
    },
    {
     "name": "stderr",
     "output_type": "stream",
     "text": [
      "2018-07-30 10:19:35 AM:INFO:PROGRESS: at 11.15% examples, 509440 words/s, in_qsize 14, out_qsize 1\n",
      "2018-07-30 10:19:36 AM:INFO:PROGRESS: at 11.29% examples, 507696 words/s, in_qsize 15, out_qsize 0\n",
      "2018-07-30 10:19:37 AM:INFO:PROGRESS: at 11.44% examples, 506182 words/s, in_qsize 15, out_qsize 0\n",
      "2018-07-30 10:19:38 AM:INFO:PROGRESS: at 11.62% examples, 505704 words/s, in_qsize 15, out_qsize 0\n",
      "2018-07-30 10:19:39 AM:INFO:PROGRESS: at 11.85% examples, 507095 words/s, in_qsize 15, out_qsize 0\n",
      "2018-07-30 10:19:40 AM:INFO:PROGRESS: at 12.07% examples, 508494 words/s, in_qsize 15, out_qsize 0\n",
      "2018-07-30 10:19:41 AM:INFO:PROGRESS: at 12.29% examples, 509599 words/s, in_qsize 15, out_qsize 0\n",
      "2018-07-30 10:19:42 AM:INFO:PROGRESS: at 12.51% examples, 510475 words/s, in_qsize 14, out_qsize 1\n",
      "2018-07-30 10:19:43 AM:INFO:PROGRESS: at 12.72% examples, 511208 words/s, in_qsize 15, out_qsize 0\n",
      "2018-07-30 10:19:44 AM:INFO:PROGRESS: at 12.93% examples, 511719 words/s, in_qsize 15, out_qsize 0\n",
      "2018-07-30 10:19:45 AM:INFO:PROGRESS: at 13.14% examples, 512269 words/s, in_qsize 15, out_qsize 0\n",
      "2018-07-30 10:19:46 AM:INFO:PROGRESS: at 13.31% examples, 511548 words/s, in_qsize 15, out_qsize 0\n",
      "2018-07-30 10:19:47 AM:INFO:PROGRESS: at 13.47% examples, 510303 words/s, in_qsize 15, out_qsize 0\n",
      "2018-07-30 10:19:48 AM:INFO:PROGRESS: at 13.62% examples, 508782 words/s, in_qsize 15, out_qsize 0\n",
      "2018-07-30 10:19:49 AM:INFO:PROGRESS: at 13.78% examples, 507668 words/s, in_qsize 15, out_qsize 0\n",
      "2018-07-30 10:19:50 AM:INFO:PROGRESS: at 13.93% examples, 506158 words/s, in_qsize 15, out_qsize 0\n",
      "2018-07-30 10:19:51 AM:INFO:PROGRESS: at 14.08% examples, 504933 words/s, in_qsize 15, out_qsize 0\n",
      "2018-07-30 10:19:52 AM:INFO:PROGRESS: at 14.23% examples, 503879 words/s, in_qsize 15, out_qsize 0\n",
      "2018-07-30 10:19:53 AM:INFO:PROGRESS: at 14.38% examples, 502411 words/s, in_qsize 15, out_qsize 0\n",
      "2018-07-30 10:19:54 AM:INFO:PROGRESS: at 14.57% examples, 502601 words/s, in_qsize 15, out_qsize 0\n",
      "2018-07-30 10:19:55 AM:INFO:PROGRESS: at 14.78% examples, 503627 words/s, in_qsize 15, out_qsize 0\n",
      "2018-07-30 10:19:56 AM:INFO:PROGRESS: at 15.00% examples, 504746 words/s, in_qsize 16, out_qsize 0\n",
      "2018-07-30 10:19:57 AM:INFO:PROGRESS: at 15.22% examples, 505684 words/s, in_qsize 15, out_qsize 0\n",
      "2018-07-30 10:19:58 AM:INFO:PROGRESS: at 15.43% examples, 506350 words/s, in_qsize 15, out_qsize 0\n",
      "2018-07-30 10:20:00 AM:INFO:PROGRESS: at 15.64% examples, 506993 words/s, in_qsize 15, out_qsize 0\n",
      "2018-07-30 10:20:01 AM:INFO:PROGRESS: at 15.85% examples, 507605 words/s, in_qsize 15, out_qsize 0\n",
      "2018-07-30 10:20:02 AM:INFO:PROGRESS: at 16.05% examples, 507990 words/s, in_qsize 15, out_qsize 0\n",
      "2018-07-30 10:20:03 AM:INFO:PROGRESS: at 16.23% examples, 507404 words/s, in_qsize 15, out_qsize 0\n",
      "2018-07-30 10:20:04 AM:INFO:PROGRESS: at 16.38% examples, 506279 words/s, in_qsize 15, out_qsize 0\n",
      "2018-07-30 10:20:05 AM:INFO:PROGRESS: at 16.53% examples, 505230 words/s, in_qsize 15, out_qsize 0\n",
      "2018-07-30 10:20:06 AM:INFO:PROGRESS: at 16.68% examples, 503903 words/s, in_qsize 15, out_qsize 0\n",
      "2018-07-30 10:20:07 AM:INFO:PROGRESS: at 16.83% examples, 502939 words/s, in_qsize 15, out_qsize 0\n",
      "2018-07-30 10:20:08 AM:INFO:PROGRESS: at 16.98% examples, 501876 words/s, in_qsize 15, out_qsize 0\n",
      "2018-07-30 10:20:09 AM:INFO:PROGRESS: at 17.12% examples, 500898 words/s, in_qsize 15, out_qsize 0\n",
      "2018-07-30 10:20:10 AM:INFO:PROGRESS: at 17.28% examples, 499967 words/s, in_qsize 15, out_qsize 0\n",
      "2018-07-30 10:20:11 AM:INFO:PROGRESS: at 17.48% examples, 500301 words/s, in_qsize 15, out_qsize 0\n",
      "2018-07-30 10:20:12 AM:INFO:PROGRESS: at 17.70% examples, 501231 words/s, in_qsize 15, out_qsize 2\n",
      "2018-07-30 10:20:13 AM:INFO:PROGRESS: at 17.92% examples, 502341 words/s, in_qsize 14, out_qsize 0\n",
      "2018-07-30 10:20:14 AM:INFO:PROGRESS: at 18.16% examples, 503283 words/s, in_qsize 15, out_qsize 0\n",
      "2018-07-30 10:20:15 AM:INFO:PROGRESS: at 18.37% examples, 503808 words/s, in_qsize 15, out_qsize 0\n",
      "2018-07-30 10:20:16 AM:INFO:PROGRESS: at 18.57% examples, 504168 words/s, in_qsize 15, out_qsize 0\n",
      "2018-07-30 10:20:17 AM:INFO:PROGRESS: at 18.77% examples, 504592 words/s, in_qsize 15, out_qsize 0\n",
      "2018-07-30 10:20:18 AM:INFO:PROGRESS: at 18.98% examples, 505100 words/s, in_qsize 15, out_qsize 0\n",
      "2018-07-30 10:20:19 AM:INFO:PROGRESS: at 19.14% examples, 504377 words/s, in_qsize 15, out_qsize 0\n",
      "2018-07-30 10:20:20 AM:INFO:PROGRESS: at 19.29% examples, 503313 words/s, in_qsize 15, out_qsize 0\n",
      "2018-07-30 10:20:21 AM:INFO:PROGRESS: at 19.45% examples, 502563 words/s, in_qsize 15, out_qsize 0\n",
      "2018-07-30 10:20:22 AM:INFO:PROGRESS: at 19.60% examples, 501591 words/s, in_qsize 15, out_qsize 0\n",
      "2018-07-30 10:20:23 AM:INFO:PROGRESS: at 19.81% examples, 502184 words/s, in_qsize 15, out_qsize 2\n",
      "2018-07-30 10:20:24 AM:INFO:PROGRESS: at 20.03% examples, 503058 words/s, in_qsize 15, out_qsize 0\n",
      "2018-07-30 10:20:25 AM:INFO:PROGRESS: at 20.24% examples, 503940 words/s, in_qsize 15, out_qsize 0\n",
      "2018-07-30 10:20:26 AM:INFO:PROGRESS: at 20.43% examples, 504600 words/s, in_qsize 15, out_qsize 0\n",
      "2018-07-30 10:20:27 AM:INFO:PROGRESS: at 20.61% examples, 505057 words/s, in_qsize 14, out_qsize 1\n",
      "2018-07-30 10:20:28 AM:INFO:PROGRESS: at 20.80% examples, 505466 words/s, in_qsize 15, out_qsize 0\n",
      "2018-07-30 10:20:29 AM:INFO:PROGRESS: at 21.00% examples, 505887 words/s, in_qsize 16, out_qsize 0\n",
      "2018-07-30 10:20:30 AM:INFO:PROGRESS: at 21.19% examples, 506252 words/s, in_qsize 15, out_qsize 0\n",
      "2018-07-30 10:20:31 AM:INFO:PROGRESS: at 21.32% examples, 505447 words/s, in_qsize 15, out_qsize 0\n",
      "2018-07-30 10:20:32 AM:INFO:PROGRESS: at 21.46% examples, 504692 words/s, in_qsize 16, out_qsize 0\n",
      "2018-07-30 10:20:33 AM:INFO:PROGRESS: at 21.60% examples, 503799 words/s, in_qsize 14, out_qsize 1\n",
      "2018-07-30 10:20:34 AM:INFO:PROGRESS: at 21.74% examples, 503045 words/s, in_qsize 15, out_qsize 0\n",
      "2018-07-30 10:20:35 AM:INFO:PROGRESS: at 21.94% examples, 503714 words/s, in_qsize 13, out_qsize 2\n",
      "2018-07-30 10:20:36 AM:INFO:PROGRESS: at 22.13% examples, 504416 words/s, in_qsize 15, out_qsize 0\n",
      "2018-07-30 10:20:37 AM:INFO:PROGRESS: at 22.33% examples, 505135 words/s, in_qsize 14, out_qsize 1\n",
      "2018-07-30 10:20:38 AM:INFO:PROGRESS: at 22.53% examples, 505837 words/s, in_qsize 15, out_qsize 0\n",
      "2018-07-30 10:20:39 AM:INFO:PROGRESS: at 22.72% examples, 506250 words/s, in_qsize 15, out_qsize 0\n",
      "2018-07-30 10:20:40 AM:INFO:PROGRESS: at 22.90% examples, 506579 words/s, in_qsize 15, out_qsize 0\n",
      "2018-07-30 10:20:41 AM:INFO:PROGRESS: at 23.09% examples, 506878 words/s, in_qsize 15, out_qsize 0\n",
      "2018-07-30 10:20:42 AM:INFO:PROGRESS: at 23.28% examples, 507030 words/s, in_qsize 15, out_qsize 0\n",
      "2018-07-30 10:20:43 AM:INFO:PROGRESS: at 23.41% examples, 506253 words/s, in_qsize 14, out_qsize 1\n",
      "2018-07-30 10:20:44 AM:INFO:PROGRESS: at 23.55% examples, 505494 words/s, in_qsize 15, out_qsize 0\n",
      "2018-07-30 10:20:45 AM:INFO:PROGRESS: at 23.69% examples, 504863 words/s, in_qsize 15, out_qsize 0\n",
      "2018-07-30 10:20:46 AM:INFO:PROGRESS: at 23.83% examples, 503946 words/s, in_qsize 15, out_qsize 0\n",
      "2018-07-30 10:20:47 AM:INFO:PROGRESS: at 23.95% examples, 503264 words/s, in_qsize 15, out_qsize 0\n",
      "2018-07-30 10:20:48 AM:INFO:PROGRESS: at 24.08% examples, 502407 words/s, in_qsize 15, out_qsize 0\n",
      "2018-07-30 10:20:49 AM:INFO:PROGRESS: at 24.22% examples, 501773 words/s, in_qsize 14, out_qsize 1\n",
      "2018-07-30 10:20:50 AM:INFO:PROGRESS: at 24.37% examples, 501406 words/s, in_qsize 15, out_qsize 0\n",
      "2018-07-30 10:20:51 AM:INFO:PROGRESS: at 24.56% examples, 502192 words/s, in_qsize 15, out_qsize 0\n",
      "2018-07-30 10:20:52 AM:INFO:PROGRESS: at 24.76% examples, 502840 words/s, in_qsize 15, out_qsize 0\n",
      "2018-07-30 10:20:53 AM:INFO:PROGRESS: at 24.96% examples, 503450 words/s, in_qsize 13, out_qsize 2\n",
      "2018-07-30 10:20:54 AM:INFO:PROGRESS: at 25.17% examples, 504019 words/s, in_qsize 15, out_qsize 0\n",
      "2018-07-30 10:20:55 AM:INFO:PROGRESS: at 25.35% examples, 504409 words/s, in_qsize 15, out_qsize 0\n",
      "2018-07-30 10:20:56 AM:INFO:PROGRESS: at 25.53% examples, 504678 words/s, in_qsize 13, out_qsize 2\n",
      "2018-07-30 10:20:57 AM:INFO:PROGRESS: at 25.73% examples, 504972 words/s, in_qsize 15, out_qsize 0\n",
      "2018-07-30 10:20:58 AM:INFO:PROGRESS: at 25.90% examples, 504934 words/s, in_qsize 16, out_qsize 0\n"
     ]
    },
    {
     "name": "stderr",
     "output_type": "stream",
     "text": [
      "2018-07-30 10:20:59 AM:INFO:PROGRESS: at 26.03% examples, 504206 words/s, in_qsize 15, out_qsize 0\n",
      "2018-07-30 10:21:00 AM:INFO:PROGRESS: at 26.16% examples, 503562 words/s, in_qsize 15, out_qsize 0\n",
      "2018-07-30 10:21:01 AM:INFO:PROGRESS: at 26.30% examples, 502907 words/s, in_qsize 15, out_qsize 0\n",
      "2018-07-30 10:21:02 AM:INFO:PROGRESS: at 26.43% examples, 502314 words/s, in_qsize 15, out_qsize 0\n",
      "2018-07-30 10:21:03 AM:INFO:PROGRESS: at 26.56% examples, 501589 words/s, in_qsize 15, out_qsize 0\n",
      "2018-07-30 10:21:04 AM:INFO:PROGRESS: at 26.70% examples, 501048 words/s, in_qsize 15, out_qsize 0\n",
      "2018-07-30 10:21:05 AM:INFO:PROGRESS: at 26.83% examples, 500459 words/s, in_qsize 16, out_qsize 0\n",
      "2018-07-30 10:21:06 AM:INFO:PROGRESS: at 26.99% examples, 500273 words/s, in_qsize 14, out_qsize 1\n",
      "2018-07-30 10:21:08 AM:INFO:PROGRESS: at 27.19% examples, 500951 words/s, in_qsize 15, out_qsize 0\n",
      "2018-07-30 10:21:09 AM:INFO:PROGRESS: at 27.39% examples, 501577 words/s, in_qsize 15, out_qsize 0\n",
      "2018-07-30 10:21:10 AM:INFO:PROGRESS: at 27.59% examples, 502186 words/s, in_qsize 15, out_qsize 0\n",
      "2018-07-30 10:21:11 AM:INFO:PROGRESS: at 27.78% examples, 502698 words/s, in_qsize 15, out_qsize 0\n",
      "2018-07-30 10:21:12 AM:INFO:PROGRESS: at 27.97% examples, 502967 words/s, in_qsize 15, out_qsize 0\n",
      "2018-07-30 10:21:13 AM:INFO:PROGRESS: at 28.15% examples, 503270 words/s, in_qsize 15, out_qsize 0\n",
      "2018-07-30 10:21:14 AM:INFO:PROGRESS: at 28.33% examples, 503607 words/s, in_qsize 15, out_qsize 0\n",
      "2018-07-30 10:21:15 AM:INFO:PROGRESS: at 28.49% examples, 503341 words/s, in_qsize 15, out_qsize 0\n",
      "2018-07-30 10:21:16 AM:INFO:PROGRESS: at 28.62% examples, 502723 words/s, in_qsize 15, out_qsize 0\n",
      "2018-07-30 10:21:17 AM:INFO:PROGRESS: at 28.77% examples, 502081 words/s, in_qsize 15, out_qsize 0\n",
      "2018-07-30 10:21:18 AM:INFO:PROGRESS: at 28.91% examples, 501572 words/s, in_qsize 15, out_qsize 0\n",
      "2018-07-30 10:21:19 AM:INFO:PROGRESS: at 29.08% examples, 501638 words/s, in_qsize 15, out_qsize 0\n",
      "2018-07-30 10:21:20 AM:INFO:PROGRESS: at 29.31% examples, 502248 words/s, in_qsize 15, out_qsize 0\n",
      "2018-07-30 10:21:21 AM:INFO:PROGRESS: at 29.53% examples, 502877 words/s, in_qsize 15, out_qsize 0\n",
      "2018-07-30 10:21:22 AM:INFO:PROGRESS: at 29.75% examples, 503427 words/s, in_qsize 15, out_qsize 0\n",
      "2018-07-30 10:21:23 AM:INFO:PROGRESS: at 29.96% examples, 503822 words/s, in_qsize 15, out_qsize 0\n",
      "2018-07-30 10:21:24 AM:INFO:PROGRESS: at 30.16% examples, 504098 words/s, in_qsize 15, out_qsize 0\n",
      "2018-07-30 10:21:25 AM:INFO:PROGRESS: at 30.38% examples, 504451 words/s, in_qsize 15, out_qsize 0\n",
      "2018-07-30 10:21:26 AM:INFO:PROGRESS: at 30.57% examples, 504577 words/s, in_qsize 14, out_qsize 1\n",
      "2018-07-30 10:21:27 AM:INFO:PROGRESS: at 30.75% examples, 504304 words/s, in_qsize 14, out_qsize 1\n",
      "2018-07-30 10:21:28 AM:INFO:PROGRESS: at 30.91% examples, 503782 words/s, in_qsize 15, out_qsize 0\n",
      "2018-07-30 10:21:29 AM:INFO:PROGRESS: at 31.06% examples, 503196 words/s, in_qsize 15, out_qsize 0\n",
      "2018-07-30 10:21:30 AM:INFO:PROGRESS: at 31.21% examples, 502699 words/s, in_qsize 15, out_qsize 0\n",
      "2018-07-30 10:21:31 AM:INFO:PROGRESS: at 31.36% examples, 502125 words/s, in_qsize 15, out_qsize 0\n",
      "2018-07-30 10:21:32 AM:INFO:PROGRESS: at 31.52% examples, 501647 words/s, in_qsize 15, out_qsize 0\n",
      "2018-07-30 10:21:33 AM:INFO:PROGRESS: at 31.67% examples, 501094 words/s, in_qsize 15, out_qsize 0\n",
      "2018-07-30 10:21:34 AM:INFO:PROGRESS: at 31.82% examples, 500557 words/s, in_qsize 15, out_qsize 0\n",
      "2018-07-30 10:21:35 AM:INFO:PROGRESS: at 32.04% examples, 500945 words/s, in_qsize 15, out_qsize 0\n",
      "2018-07-30 10:21:36 AM:INFO:PROGRESS: at 32.25% examples, 501305 words/s, in_qsize 15, out_qsize 0\n",
      "2018-07-30 10:21:37 AM:INFO:PROGRESS: at 32.47% examples, 501832 words/s, in_qsize 15, out_qsize 0\n",
      "2018-07-30 10:21:38 AM:INFO:PROGRESS: at 32.70% examples, 502348 words/s, in_qsize 15, out_qsize 0\n",
      "2018-07-30 10:21:39 AM:INFO:PROGRESS: at 32.91% examples, 502667 words/s, in_qsize 15, out_qsize 0\n",
      "2018-07-30 10:21:40 AM:INFO:PROGRESS: at 33.13% examples, 502944 words/s, in_qsize 15, out_qsize 0\n",
      "2018-07-30 10:21:41 AM:INFO:PROGRESS: at 33.35% examples, 503287 words/s, in_qsize 15, out_qsize 0\n",
      "2018-07-30 10:21:42 AM:INFO:PROGRESS: at 33.56% examples, 503524 words/s, in_qsize 14, out_qsize 1\n",
      "2018-07-30 10:21:43 AM:INFO:PROGRESS: at 33.71% examples, 503040 words/s, in_qsize 15, out_qsize 0\n",
      "2018-07-30 10:21:44 AM:INFO:PROGRESS: at 33.87% examples, 502581 words/s, in_qsize 15, out_qsize 0\n",
      "2018-07-30 10:21:45 AM:INFO:PROGRESS: at 34.03% examples, 502086 words/s, in_qsize 15, out_qsize 0\n",
      "2018-07-30 10:21:46 AM:INFO:PROGRESS: at 34.17% examples, 501503 words/s, in_qsize 15, out_qsize 0\n",
      "2018-07-30 10:21:47 AM:INFO:PROGRESS: at 34.40% examples, 502014 words/s, in_qsize 15, out_qsize 0\n",
      "2018-07-30 10:21:48 AM:INFO:PROGRESS: at 34.62% examples, 502535 words/s, in_qsize 15, out_qsize 0\n",
      "2018-07-30 10:21:49 AM:INFO:PROGRESS: at 34.84% examples, 502982 words/s, in_qsize 15, out_qsize 0\n",
      "2018-07-30 10:21:50 AM:INFO:PROGRESS: at 35.05% examples, 503495 words/s, in_qsize 14, out_qsize 1\n",
      "2018-07-30 10:21:51 AM:INFO:PROGRESS: at 35.26% examples, 503739 words/s, in_qsize 15, out_qsize 0\n",
      "2018-07-30 10:21:52 AM:INFO:PROGRESS: at 35.47% examples, 504023 words/s, in_qsize 15, out_qsize 0\n",
      "2018-07-30 10:21:53 AM:INFO:PROGRESS: at 35.68% examples, 504276 words/s, in_qsize 15, out_qsize 0\n",
      "2018-07-30 10:21:54 AM:INFO:PROGRESS: at 35.88% examples, 504470 words/s, in_qsize 15, out_qsize 0\n",
      "2018-07-30 10:21:55 AM:INFO:PROGRESS: at 36.04% examples, 503991 words/s, in_qsize 15, out_qsize 0\n",
      "2018-07-30 10:21:56 AM:INFO:PROGRESS: at 36.19% examples, 503457 words/s, in_qsize 15, out_qsize 0\n",
      "2018-07-30 10:21:57 AM:INFO:PROGRESS: at 36.33% examples, 502951 words/s, in_qsize 15, out_qsize 0\n",
      "2018-07-30 10:21:58 AM:INFO:PROGRESS: at 36.50% examples, 502542 words/s, in_qsize 15, out_qsize 0\n",
      "2018-07-30 10:21:59 AM:INFO:PROGRESS: at 36.73% examples, 503068 words/s, in_qsize 15, out_qsize 0\n",
      "2018-07-30 10:22:00 AM:INFO:PROGRESS: at 36.95% examples, 503536 words/s, in_qsize 15, out_qsize 0\n",
      "2018-07-30 10:22:01 AM:INFO:PROGRESS: at 37.16% examples, 503941 words/s, in_qsize 15, out_qsize 0\n",
      "2018-07-30 10:22:02 AM:INFO:PROGRESS: at 37.38% examples, 504347 words/s, in_qsize 15, out_qsize 0\n",
      "2018-07-30 10:22:03 AM:INFO:PROGRESS: at 37.59% examples, 504567 words/s, in_qsize 15, out_qsize 0\n",
      "2018-07-30 10:22:04 AM:INFO:PROGRESS: at 37.80% examples, 504898 words/s, in_qsize 14, out_qsize 0\n",
      "2018-07-30 10:22:05 AM:INFO:PROGRESS: at 38.00% examples, 505080 words/s, in_qsize 15, out_qsize 0\n",
      "2018-07-30 10:22:06 AM:INFO:PROGRESS: at 38.20% examples, 505056 words/s, in_qsize 14, out_qsize 1\n",
      "2018-07-30 10:22:07 AM:INFO:PROGRESS: at 38.36% examples, 504655 words/s, in_qsize 15, out_qsize 0\n",
      "2018-07-30 10:22:08 AM:INFO:PROGRESS: at 38.50% examples, 504159 words/s, in_qsize 15, out_qsize 0\n",
      "2018-07-30 10:22:09 AM:INFO:PROGRESS: at 38.66% examples, 503668 words/s, in_qsize 15, out_qsize 0\n",
      "2018-07-30 10:22:10 AM:INFO:PROGRESS: at 38.82% examples, 503268 words/s, in_qsize 15, out_qsize 0\n",
      "2018-07-30 10:22:11 AM:INFO:PROGRESS: at 38.97% examples, 502833 words/s, in_qsize 15, out_qsize 0\n",
      "2018-07-30 10:22:12 AM:INFO:PROGRESS: at 39.12% examples, 502363 words/s, in_qsize 15, out_qsize 0\n",
      "2018-07-30 10:22:13 AM:INFO:PROGRESS: at 39.27% examples, 501979 words/s, in_qsize 15, out_qsize 0\n",
      "2018-07-30 10:22:14 AM:INFO:PROGRESS: at 39.44% examples, 501804 words/s, in_qsize 15, out_qsize 0\n",
      "2018-07-30 10:22:15 AM:INFO:PROGRESS: at 39.67% examples, 502275 words/s, in_qsize 15, out_qsize 0\n",
      "2018-07-30 10:22:16 AM:INFO:PROGRESS: at 39.90% examples, 502718 words/s, in_qsize 15, out_qsize 0\n",
      "2018-07-30 10:22:17 AM:INFO:PROGRESS: at 40.11% examples, 503132 words/s, in_qsize 15, out_qsize 0\n",
      "2018-07-30 10:22:18 AM:INFO:PROGRESS: at 40.31% examples, 503511 words/s, in_qsize 15, out_qsize 0\n",
      "2018-07-30 10:22:19 AM:INFO:PROGRESS: at 40.50% examples, 503731 words/s, in_qsize 15, out_qsize 0\n",
      "2018-07-30 10:22:20 AM:INFO:PROGRESS: at 40.68% examples, 503982 words/s, in_qsize 15, out_qsize 0\n",
      "2018-07-30 10:22:21 AM:INFO:PROGRESS: at 40.87% examples, 504191 words/s, in_qsize 15, out_qsize 0\n",
      "2018-07-30 10:22:23 AM:INFO:PROGRESS: at 41.05% examples, 504071 words/s, in_qsize 15, out_qsize 0\n"
     ]
    },
    {
     "name": "stderr",
     "output_type": "stream",
     "text": [
      "2018-07-30 10:22:24 AM:INFO:PROGRESS: at 41.19% examples, 503702 words/s, in_qsize 15, out_qsize 0\n",
      "2018-07-30 10:22:25 AM:INFO:PROGRESS: at 41.32% examples, 503307 words/s, in_qsize 16, out_qsize 0\n",
      "2018-07-30 10:22:26 AM:INFO:PROGRESS: at 41.46% examples, 502826 words/s, in_qsize 15, out_qsize 0\n",
      "2018-07-30 10:22:27 AM:INFO:PROGRESS: at 41.60% examples, 502423 words/s, in_qsize 15, out_qsize 0\n",
      "2018-07-30 10:22:28 AM:INFO:PROGRESS: at 41.74% examples, 502013 words/s, in_qsize 15, out_qsize 0\n",
      "2018-07-30 10:22:29 AM:INFO:PROGRESS: at 41.87% examples, 501643 words/s, in_qsize 15, out_qsize 0\n",
      "2018-07-30 10:22:30 AM:INFO:PROGRESS: at 42.01% examples, 501248 words/s, in_qsize 15, out_qsize 0\n",
      "2018-07-30 10:22:31 AM:INFO:PROGRESS: at 42.17% examples, 501281 words/s, in_qsize 15, out_qsize 0\n",
      "2018-07-30 10:22:32 AM:INFO:PROGRESS: at 42.38% examples, 501729 words/s, in_qsize 14, out_qsize 1\n",
      "2018-07-30 10:22:33 AM:INFO:PROGRESS: at 42.59% examples, 502179 words/s, in_qsize 16, out_qsize 0\n",
      "2018-07-30 10:22:34 AM:INFO:PROGRESS: at 42.78% examples, 502596 words/s, in_qsize 14, out_qsize 0\n",
      "2018-07-30 10:22:35 AM:INFO:PROGRESS: at 42.97% examples, 502814 words/s, in_qsize 14, out_qsize 1\n",
      "2018-07-30 10:22:36 AM:INFO:PROGRESS: at 43.17% examples, 503016 words/s, in_qsize 15, out_qsize 0\n",
      "2018-07-30 10:22:37 AM:INFO:PROGRESS: at 43.33% examples, 503118 words/s, in_qsize 14, out_qsize 1\n",
      "2018-07-30 10:22:38 AM:INFO:PROGRESS: at 43.52% examples, 503365 words/s, in_qsize 14, out_qsize 1\n",
      "2018-07-30 10:22:39 AM:INFO:PROGRESS: at 43.68% examples, 503190 words/s, in_qsize 15, out_qsize 0\n",
      "2018-07-30 10:22:40 AM:INFO:PROGRESS: at 43.82% examples, 502851 words/s, in_qsize 15, out_qsize 0\n",
      "2018-07-30 10:22:41 AM:INFO:PROGRESS: at 43.95% examples, 502455 words/s, in_qsize 15, out_qsize 0\n",
      "2018-07-30 10:22:42 AM:INFO:PROGRESS: at 44.08% examples, 502024 words/s, in_qsize 15, out_qsize 0\n",
      "2018-07-30 10:22:43 AM:INFO:PROGRESS: at 44.26% examples, 502171 words/s, in_qsize 15, out_qsize 0\n",
      "2018-07-30 10:22:44 AM:INFO:PROGRESS: at 44.46% examples, 502581 words/s, in_qsize 15, out_qsize 0\n",
      "2018-07-30 10:22:45 AM:INFO:PROGRESS: at 44.66% examples, 502998 words/s, in_qsize 15, out_qsize 0\n",
      "2018-07-30 10:22:46 AM:INFO:PROGRESS: at 44.85% examples, 503273 words/s, in_qsize 15, out_qsize 0\n",
      "2018-07-30 10:22:47 AM:INFO:PROGRESS: at 45.04% examples, 503554 words/s, in_qsize 15, out_qsize 0\n",
      "2018-07-30 10:22:48 AM:INFO:PROGRESS: at 45.24% examples, 503777 words/s, in_qsize 15, out_qsize 1\n",
      "2018-07-30 10:22:49 AM:INFO:PROGRESS: at 45.42% examples, 503973 words/s, in_qsize 16, out_qsize 0\n",
      "2018-07-30 10:22:50 AM:INFO:PROGRESS: at 45.61% examples, 504158 words/s, in_qsize 15, out_qsize 0\n",
      "2018-07-30 10:22:51 AM:INFO:PROGRESS: at 45.77% examples, 503956 words/s, in_qsize 15, out_qsize 0\n",
      "2018-07-30 10:22:52 AM:INFO:PROGRESS: at 45.90% examples, 503570 words/s, in_qsize 15, out_qsize 0\n",
      "2018-07-30 10:22:53 AM:INFO:PROGRESS: at 46.03% examples, 503217 words/s, in_qsize 15, out_qsize 0\n",
      "2018-07-30 10:22:54 AM:INFO:PROGRESS: at 46.17% examples, 502866 words/s, in_qsize 15, out_qsize 0\n",
      "2018-07-30 10:22:55 AM:INFO:PROGRESS: at 46.30% examples, 502469 words/s, in_qsize 15, out_qsize 0\n",
      "2018-07-30 10:22:56 AM:INFO:PROGRESS: at 46.42% examples, 502067 words/s, in_qsize 15, out_qsize 0\n",
      "2018-07-30 10:22:57 AM:INFO:PROGRESS: at 46.56% examples, 501712 words/s, in_qsize 15, out_qsize 0\n",
      "2018-07-30 10:22:58 AM:INFO:PROGRESS: at 46.70% examples, 501325 words/s, in_qsize 16, out_qsize 2\n",
      "2018-07-30 10:22:59 AM:INFO:PROGRESS: at 46.89% examples, 501622 words/s, in_qsize 15, out_qsize 0\n",
      "2018-07-30 10:23:00 AM:INFO:PROGRESS: at 47.08% examples, 501981 words/s, in_qsize 14, out_qsize 1\n",
      "2018-07-30 10:23:01 AM:INFO:PROGRESS: at 47.29% examples, 502370 words/s, in_qsize 15, out_qsize 0\n",
      "2018-07-30 10:23:02 AM:INFO:PROGRESS: at 47.49% examples, 502685 words/s, in_qsize 14, out_qsize 1\n",
      "2018-07-30 10:23:03 AM:INFO:PROGRESS: at 47.68% examples, 502907 words/s, in_qsize 15, out_qsize 0\n",
      "2018-07-30 10:23:04 AM:INFO:PROGRESS: at 47.86% examples, 503150 words/s, in_qsize 16, out_qsize 0\n",
      "2018-07-30 10:23:05 AM:INFO:PROGRESS: at 48.05% examples, 503336 words/s, in_qsize 14, out_qsize 1\n",
      "2018-07-30 10:23:06 AM:INFO:PROGRESS: at 48.23% examples, 503482 words/s, in_qsize 14, out_qsize 1\n",
      "2018-07-30 10:23:07 AM:INFO:PROGRESS: at 48.37% examples, 503177 words/s, in_qsize 15, out_qsize 0\n",
      "2018-07-30 10:23:08 AM:INFO:PROGRESS: at 48.51% examples, 502815 words/s, in_qsize 15, out_qsize 0\n",
      "2018-07-30 10:23:09 AM:INFO:PROGRESS: at 48.65% examples, 502513 words/s, in_qsize 15, out_qsize 0\n",
      "2018-07-30 10:23:10 AM:INFO:PROGRESS: at 48.79% examples, 502142 words/s, in_qsize 15, out_qsize 0\n",
      "2018-07-30 10:23:11 AM:INFO:PROGRESS: at 48.99% examples, 502477 words/s, in_qsize 15, out_qsize 0\n",
      "2018-07-30 10:23:12 AM:INFO:PROGRESS: at 49.21% examples, 502845 words/s, in_qsize 15, out_qsize 0\n",
      "2018-07-30 10:23:13 AM:INFO:PROGRESS: at 49.44% examples, 503223 words/s, in_qsize 15, out_qsize 0\n",
      "2018-07-30 10:23:14 AM:INFO:PROGRESS: at 49.65% examples, 503519 words/s, in_qsize 15, out_qsize 0\n",
      "2018-07-30 10:23:15 AM:INFO:PROGRESS: at 49.86% examples, 503706 words/s, in_qsize 15, out_qsize 0\n",
      "2018-07-30 10:23:16 AM:INFO:PROGRESS: at 50.07% examples, 503837 words/s, in_qsize 14, out_qsize 1\n",
      "2018-07-30 10:23:17 AM:INFO:PROGRESS: at 50.27% examples, 504000 words/s, in_qsize 15, out_qsize 0\n",
      "2018-07-30 10:23:18 AM:INFO:PROGRESS: at 50.48% examples, 504094 words/s, in_qsize 15, out_qsize 0\n",
      "2018-07-30 10:23:19 AM:INFO:PROGRESS: at 50.63% examples, 503805 words/s, in_qsize 15, out_qsize 0\n",
      "2018-07-30 10:23:20 AM:INFO:PROGRESS: at 50.78% examples, 503438 words/s, in_qsize 14, out_qsize 1\n",
      "2018-07-30 10:23:21 AM:INFO:PROGRESS: at 50.94% examples, 503148 words/s, in_qsize 15, out_qsize 0\n",
      "2018-07-30 10:23:22 AM:INFO:PROGRESS: at 51.10% examples, 502823 words/s, in_qsize 14, out_qsize 1\n",
      "2018-07-30 10:23:23 AM:INFO:PROGRESS: at 51.26% examples, 502459 words/s, in_qsize 15, out_qsize 0\n",
      "2018-07-30 10:23:24 AM:INFO:PROGRESS: at 51.41% examples, 502177 words/s, in_qsize 15, out_qsize 0\n",
      "2018-07-30 10:23:25 AM:INFO:PROGRESS: at 51.56% examples, 501817 words/s, in_qsize 15, out_qsize 0\n",
      "2018-07-30 10:23:26 AM:INFO:PROGRESS: at 51.71% examples, 501433 words/s, in_qsize 15, out_qsize 0\n",
      "2018-07-30 10:23:28 AM:INFO:PROGRESS: at 51.87% examples, 501112 words/s, in_qsize 15, out_qsize 0\n",
      "2018-07-30 10:23:29 AM:INFO:PROGRESS: at 52.03% examples, 500837 words/s, in_qsize 15, out_qsize 0\n",
      "2018-07-30 10:23:30 AM:INFO:PROGRESS: at 52.18% examples, 500502 words/s, in_qsize 15, out_qsize 0\n",
      "2018-07-30 10:23:31 AM:INFO:PROGRESS: at 52.36% examples, 500414 words/s, in_qsize 15, out_qsize 0\n",
      "2018-07-30 10:23:32 AM:INFO:PROGRESS: at 52.59% examples, 500779 words/s, in_qsize 15, out_qsize 0\n",
      "2018-07-30 10:23:33 AM:INFO:PROGRESS: at 52.83% examples, 501173 words/s, in_qsize 15, out_qsize 0\n",
      "2018-07-30 10:23:34 AM:INFO:PROGRESS: at 53.06% examples, 501506 words/s, in_qsize 15, out_qsize 0\n",
      "2018-07-30 10:23:35 AM:INFO:PROGRESS: at 53.28% examples, 501766 words/s, in_qsize 15, out_qsize 0\n",
      "2018-07-30 10:23:36 AM:INFO:PROGRESS: at 53.48% examples, 501920 words/s, in_qsize 15, out_qsize 0\n",
      "2018-07-30 10:23:37 AM:INFO:PROGRESS: at 53.69% examples, 502119 words/s, in_qsize 15, out_qsize 0\n",
      "2018-07-30 10:23:38 AM:INFO:PROGRESS: at 53.90% examples, 502252 words/s, in_qsize 15, out_qsize 0\n",
      "2018-07-30 10:23:39 AM:INFO:PROGRESS: at 54.09% examples, 502197 words/s, in_qsize 15, out_qsize 0\n",
      "2018-07-30 10:23:40 AM:INFO:PROGRESS: at 54.24% examples, 501882 words/s, in_qsize 14, out_qsize 1\n",
      "2018-07-30 10:23:41 AM:INFO:PROGRESS: at 54.39% examples, 501584 words/s, in_qsize 15, out_qsize 0\n",
      "2018-07-30 10:23:42 AM:INFO:PROGRESS: at 54.55% examples, 501293 words/s, in_qsize 15, out_qsize 0\n",
      "2018-07-30 10:23:43 AM:INFO:PROGRESS: at 54.74% examples, 501327 words/s, in_qsize 15, out_qsize 0\n",
      "2018-07-30 10:23:44 AM:INFO:PROGRESS: at 54.96% examples, 501676 words/s, in_qsize 13, out_qsize 2\n",
      "2018-07-30 10:23:45 AM:INFO:PROGRESS: at 55.19% examples, 502048 words/s, in_qsize 15, out_qsize 0\n",
      "2018-07-30 10:23:46 AM:INFO:PROGRESS: at 55.41% examples, 502298 words/s, in_qsize 15, out_qsize 0\n",
      "2018-07-30 10:23:47 AM:INFO:PROGRESS: at 55.63% examples, 502512 words/s, in_qsize 15, out_qsize 0\n"
     ]
    },
    {
     "name": "stderr",
     "output_type": "stream",
     "text": [
      "2018-07-30 10:23:48 AM:INFO:PROGRESS: at 55.84% examples, 502683 words/s, in_qsize 15, out_qsize 0\n",
      "2018-07-30 10:23:49 AM:INFO:PROGRESS: at 56.05% examples, 502891 words/s, in_qsize 15, out_qsize 0\n",
      "2018-07-30 10:23:50 AM:INFO:PROGRESS: at 56.26% examples, 503055 words/s, in_qsize 14, out_qsize 1\n",
      "2018-07-30 10:23:51 AM:INFO:PROGRESS: at 56.43% examples, 502854 words/s, in_qsize 15, out_qsize 0\n",
      "2018-07-30 10:23:52 AM:INFO:PROGRESS: at 56.59% examples, 502615 words/s, in_qsize 15, out_qsize 0\n",
      "2018-07-30 10:23:53 AM:INFO:PROGRESS: at 56.73% examples, 502224 words/s, in_qsize 15, out_qsize 0\n",
      "2018-07-30 10:23:54 AM:INFO:PROGRESS: at 56.89% examples, 501988 words/s, in_qsize 15, out_qsize 0\n",
      "2018-07-30 10:23:55 AM:INFO:PROGRESS: at 57.04% examples, 501711 words/s, in_qsize 15, out_qsize 0\n",
      "2018-07-30 10:23:56 AM:INFO:PROGRESS: at 57.18% examples, 501364 words/s, in_qsize 15, out_qsize 0\n",
      "2018-07-30 10:23:57 AM:INFO:PROGRESS: at 57.33% examples, 501073 words/s, in_qsize 15, out_qsize 0\n",
      "2018-07-30 10:23:58 AM:INFO:PROGRESS: at 57.49% examples, 500774 words/s, in_qsize 15, out_qsize 0\n",
      "2018-07-30 10:23:59 AM:INFO:PROGRESS: at 57.70% examples, 501013 words/s, in_qsize 15, out_qsize 0\n",
      "2018-07-30 10:24:00 AM:INFO:PROGRESS: at 57.93% examples, 501334 words/s, in_qsize 15, out_qsize 0\n",
      "2018-07-30 10:24:01 AM:INFO:PROGRESS: at 58.16% examples, 501620 words/s, in_qsize 15, out_qsize 0\n",
      "2018-07-30 10:24:02 AM:INFO:PROGRESS: at 58.39% examples, 501935 words/s, in_qsize 14, out_qsize 1\n",
      "2018-07-30 10:24:03 AM:INFO:PROGRESS: at 58.60% examples, 502127 words/s, in_qsize 15, out_qsize 0\n",
      "2018-07-30 10:24:04 AM:INFO:PROGRESS: at 58.81% examples, 502314 words/s, in_qsize 15, out_qsize 0\n",
      "2018-07-30 10:24:05 AM:INFO:PROGRESS: at 59.02% examples, 502462 words/s, in_qsize 15, out_qsize 0\n",
      "2018-07-30 10:24:06 AM:INFO:PROGRESS: at 59.22% examples, 502569 words/s, in_qsize 15, out_qsize 0\n",
      "2018-07-30 10:24:07 AM:INFO:PROGRESS: at 59.38% examples, 502297 words/s, in_qsize 15, out_qsize 0\n",
      "2018-07-30 10:24:08 AM:INFO:PROGRESS: at 59.53% examples, 502020 words/s, in_qsize 14, out_qsize 1\n",
      "2018-07-30 10:24:09 AM:INFO:PROGRESS: at 59.68% examples, 501762 words/s, in_qsize 15, out_qsize 0\n",
      "2018-07-30 10:24:10 AM:INFO:PROGRESS: at 59.84% examples, 501492 words/s, in_qsize 15, out_qsize 0\n",
      "2018-07-30 10:24:11 AM:INFO:PROGRESS: at 60.00% examples, 501208 words/s, in_qsize 15, out_qsize 0\n",
      "2018-07-30 10:24:12 AM:INFO:PROGRESS: at 60.14% examples, 500958 words/s, in_qsize 15, out_qsize 0\n",
      "2018-07-30 10:24:13 AM:INFO:PROGRESS: at 60.28% examples, 500710 words/s, in_qsize 15, out_qsize 0\n",
      "2018-07-30 10:24:14 AM:INFO:PROGRESS: at 60.42% examples, 500452 words/s, in_qsize 15, out_qsize 0\n",
      "2018-07-30 10:24:15 AM:INFO:PROGRESS: at 60.61% examples, 500705 words/s, in_qsize 14, out_qsize 1\n",
      "2018-07-30 10:24:16 AM:INFO:PROGRESS: at 60.81% examples, 500994 words/s, in_qsize 15, out_qsize 0\n",
      "2018-07-30 10:24:17 AM:INFO:PROGRESS: at 61.02% examples, 501306 words/s, in_qsize 15, out_qsize 0\n",
      "2018-07-30 10:24:18 AM:INFO:PROGRESS: at 61.23% examples, 501596 words/s, in_qsize 15, out_qsize 0\n",
      "2018-07-30 10:24:19 AM:INFO:PROGRESS: at 61.42% examples, 501757 words/s, in_qsize 15, out_qsize 0\n",
      "2018-07-30 10:24:20 AM:INFO:PROGRESS: at 61.61% examples, 501949 words/s, in_qsize 15, out_qsize 0\n",
      "2018-07-30 10:24:21 AM:INFO:PROGRESS: at 61.79% examples, 502077 words/s, in_qsize 15, out_qsize 0\n",
      "2018-07-30 10:24:22 AM:INFO:PROGRESS: at 61.97% examples, 502202 words/s, in_qsize 15, out_qsize 0\n",
      "2018-07-30 10:24:23 AM:INFO:PROGRESS: at 62.11% examples, 501931 words/s, in_qsize 14, out_qsize 1\n",
      "2018-07-30 10:24:24 AM:INFO:PROGRESS: at 62.24% examples, 501654 words/s, in_qsize 15, out_qsize 0\n",
      "2018-07-30 10:24:25 AM:INFO:PROGRESS: at 62.38% examples, 501377 words/s, in_qsize 15, out_qsize 0\n",
      "2018-07-30 10:24:26 AM:INFO:PROGRESS: at 62.52% examples, 501174 words/s, in_qsize 15, out_qsize 0\n",
      "2018-07-30 10:24:27 AM:INFO:PROGRESS: at 62.72% examples, 501443 words/s, in_qsize 15, out_qsize 0\n",
      "2018-07-30 10:24:28 AM:INFO:PROGRESS: at 62.92% examples, 501739 words/s, in_qsize 15, out_qsize 0\n",
      "2018-07-30 10:24:29 AM:INFO:PROGRESS: at 63.13% examples, 502030 words/s, in_qsize 15, out_qsize 0\n",
      "2018-07-30 10:24:30 AM:INFO:PROGRESS: at 63.32% examples, 502299 words/s, in_qsize 15, out_qsize 0\n",
      "2018-07-30 10:24:31 AM:INFO:PROGRESS: at 63.51% examples, 502447 words/s, in_qsize 15, out_qsize 0\n",
      "2018-07-30 10:24:32 AM:INFO:PROGRESS: at 63.70% examples, 502589 words/s, in_qsize 15, out_qsize 0\n",
      "2018-07-30 10:24:33 AM:INFO:PROGRESS: at 63.89% examples, 502749 words/s, in_qsize 15, out_qsize 0\n",
      "2018-07-30 10:24:34 AM:INFO:PROGRESS: at 64.06% examples, 502833 words/s, in_qsize 15, out_qsize 0\n",
      "2018-07-30 10:24:35 AM:INFO:PROGRESS: at 64.18% examples, 502507 words/s, in_qsize 15, out_qsize 0\n",
      "2018-07-30 10:24:36 AM:INFO:PROGRESS: at 64.32% examples, 502227 words/s, in_qsize 15, out_qsize 0\n",
      "2018-07-30 10:24:37 AM:INFO:PROGRESS: at 64.45% examples, 501960 words/s, in_qsize 15, out_qsize 0\n",
      "2018-07-30 10:24:38 AM:INFO:PROGRESS: at 64.59% examples, 501826 words/s, in_qsize 14, out_qsize 1\n",
      "2018-07-30 10:24:39 AM:INFO:PROGRESS: at 64.81% examples, 502162 words/s, in_qsize 16, out_qsize 0\n",
      "2018-07-30 10:24:40 AM:INFO:PROGRESS: at 65.01% examples, 502413 words/s, in_qsize 15, out_qsize 0\n",
      "2018-07-30 10:24:41 AM:INFO:PROGRESS: at 65.22% examples, 502677 words/s, in_qsize 15, out_qsize 0\n",
      "2018-07-30 10:24:42 AM:INFO:PROGRESS: at 65.41% examples, 502919 words/s, in_qsize 15, out_qsize 0\n",
      "2018-07-30 10:24:44 AM:INFO:PROGRESS: at 65.60% examples, 503073 words/s, in_qsize 15, out_qsize 0\n",
      "2018-07-30 10:24:45 AM:INFO:PROGRESS: at 65.79% examples, 503217 words/s, in_qsize 15, out_qsize 0\n",
      "2018-07-30 10:24:46 AM:INFO:PROGRESS: at 65.97% examples, 503324 words/s, in_qsize 15, out_qsize 0\n",
      "2018-07-30 10:24:47 AM:INFO:PROGRESS: at 66.14% examples, 503311 words/s, in_qsize 15, out_qsize 0\n",
      "2018-07-30 10:24:48 AM:INFO:PROGRESS: at 66.27% examples, 503076 words/s, in_qsize 15, out_qsize 0\n",
      "2018-07-30 10:24:49 AM:INFO:PROGRESS: at 66.40% examples, 502796 words/s, in_qsize 15, out_qsize 0\n",
      "2018-07-30 10:24:50 AM:INFO:PROGRESS: at 66.54% examples, 502562 words/s, in_qsize 15, out_qsize 0\n",
      "2018-07-30 10:24:51 AM:INFO:PROGRESS: at 66.67% examples, 502296 words/s, in_qsize 15, out_qsize 0\n",
      "2018-07-30 10:24:52 AM:INFO:PROGRESS: at 66.81% examples, 502080 words/s, in_qsize 15, out_qsize 0\n",
      "2018-07-30 10:24:53 AM:INFO:PROGRESS: at 66.95% examples, 501785 words/s, in_qsize 15, out_qsize 0\n",
      "2018-07-30 10:24:54 AM:INFO:PROGRESS: at 67.08% examples, 501572 words/s, in_qsize 15, out_qsize 0\n",
      "2018-07-30 10:24:55 AM:INFO:PROGRESS: at 67.26% examples, 501560 words/s, in_qsize 15, out_qsize 0\n",
      "2018-07-30 10:24:56 AM:INFO:PROGRESS: at 67.45% examples, 501783 words/s, in_qsize 15, out_qsize 0\n",
      "2018-07-30 10:24:57 AM:INFO:PROGRESS: at 67.66% examples, 502089 words/s, in_qsize 15, out_qsize 0\n",
      "2018-07-30 10:24:58 AM:INFO:PROGRESS: at 67.86% examples, 502314 words/s, in_qsize 15, out_qsize 0\n",
      "2018-07-30 10:24:59 AM:INFO:PROGRESS: at 68.05% examples, 502534 words/s, in_qsize 15, out_qsize 0\n",
      "2018-07-30 10:25:00 AM:INFO:PROGRESS: at 68.24% examples, 502679 words/s, in_qsize 14, out_qsize 1\n",
      "2018-07-30 10:25:01 AM:INFO:PROGRESS: at 68.42% examples, 502812 words/s, in_qsize 15, out_qsize 0\n",
      "2018-07-30 10:25:02 AM:INFO:PROGRESS: at 68.60% examples, 502937 words/s, in_qsize 14, out_qsize 1\n",
      "2018-07-30 10:25:03 AM:INFO:PROGRESS: at 68.77% examples, 502856 words/s, in_qsize 15, out_qsize 0\n",
      "2018-07-30 10:25:04 AM:INFO:PROGRESS: at 68.91% examples, 502619 words/s, in_qsize 15, out_qsize 0\n",
      "2018-07-30 10:25:05 AM:INFO:PROGRESS: at 69.04% examples, 502357 words/s, in_qsize 15, out_qsize 0\n",
      "2018-07-30 10:25:06 AM:INFO:PROGRESS: at 69.19% examples, 502114 words/s, in_qsize 15, out_qsize 0\n",
      "2018-07-30 10:25:07 AM:INFO:PROGRESS: at 69.38% examples, 502136 words/s, in_qsize 16, out_qsize 0\n",
      "2018-07-30 10:25:08 AM:INFO:PROGRESS: at 69.61% examples, 502398 words/s, in_qsize 15, out_qsize 0\n",
      "2018-07-30 10:25:09 AM:INFO:PROGRESS: at 69.83% examples, 502684 words/s, in_qsize 15, out_qsize 0\n",
      "2018-07-30 10:25:10 AM:INFO:PROGRESS: at 70.05% examples, 502907 words/s, in_qsize 15, out_qsize 0\n",
      "2018-07-30 10:25:11 AM:INFO:PROGRESS: at 70.26% examples, 503078 words/s, in_qsize 15, out_qsize 0\n"
     ]
    },
    {
     "name": "stderr",
     "output_type": "stream",
     "text": [
      "2018-07-30 10:25:12 AM:INFO:PROGRESS: at 70.48% examples, 503220 words/s, in_qsize 15, out_qsize 0\n",
      "2018-07-30 10:25:13 AM:INFO:PROGRESS: at 70.69% examples, 503358 words/s, in_qsize 15, out_qsize 0\n",
      "2018-07-30 10:25:14 AM:INFO:PROGRESS: at 70.90% examples, 503510 words/s, in_qsize 15, out_qsize 0\n",
      "2018-07-30 10:25:15 AM:INFO:PROGRESS: at 71.07% examples, 503366 words/s, in_qsize 15, out_qsize 0\n",
      "2018-07-30 10:25:16 AM:INFO:PROGRESS: at 71.21% examples, 503075 words/s, in_qsize 15, out_qsize 0\n",
      "2018-07-30 10:25:17 AM:INFO:PROGRESS: at 71.36% examples, 502844 words/s, in_qsize 15, out_qsize 0\n",
      "2018-07-30 10:25:18 AM:INFO:PROGRESS: at 71.52% examples, 502637 words/s, in_qsize 15, out_qsize 0\n",
      "2018-07-30 10:25:19 AM:INFO:PROGRESS: at 71.67% examples, 502411 words/s, in_qsize 15, out_qsize 0\n",
      "2018-07-30 10:25:20 AM:INFO:PROGRESS: at 71.82% examples, 502163 words/s, in_qsize 15, out_qsize 0\n",
      "2018-07-30 10:25:21 AM:INFO:PROGRESS: at 71.98% examples, 501940 words/s, in_qsize 15, out_qsize 1\n",
      "2018-07-30 10:25:22 AM:INFO:PROGRESS: at 72.13% examples, 501708 words/s, in_qsize 14, out_qsize 1\n",
      "2018-07-30 10:25:23 AM:INFO:PROGRESS: at 72.34% examples, 501858 words/s, in_qsize 15, out_qsize 0\n",
      "2018-07-30 10:25:24 AM:INFO:PROGRESS: at 72.56% examples, 502106 words/s, in_qsize 15, out_qsize 0\n",
      "2018-07-30 10:25:25 AM:INFO:PROGRESS: at 72.80% examples, 502393 words/s, in_qsize 15, out_qsize 0\n",
      "2018-07-30 10:25:26 AM:INFO:PROGRESS: at 73.02% examples, 502561 words/s, in_qsize 15, out_qsize 0\n",
      "2018-07-30 10:25:27 AM:INFO:PROGRESS: at 73.24% examples, 502741 words/s, in_qsize 15, out_qsize 0\n",
      "2018-07-30 10:25:28 AM:INFO:PROGRESS: at 73.45% examples, 502877 words/s, in_qsize 15, out_qsize 0\n",
      "2018-07-30 10:25:29 AM:INFO:PROGRESS: at 73.66% examples, 503002 words/s, in_qsize 15, out_qsize 0\n",
      "2018-07-30 10:25:30 AM:INFO:PROGRESS: at 73.88% examples, 503135 words/s, in_qsize 15, out_qsize 0\n",
      "2018-07-30 10:25:31 AM:INFO:PROGRESS: at 74.04% examples, 502962 words/s, in_qsize 15, out_qsize 0\n",
      "2018-07-30 10:25:32 AM:INFO:PROGRESS: at 74.19% examples, 502707 words/s, in_qsize 15, out_qsize 0\n",
      "2018-07-30 10:25:33 AM:INFO:PROGRESS: at 74.35% examples, 502500 words/s, in_qsize 15, out_qsize 0\n",
      "2018-07-30 10:25:34 AM:INFO:PROGRESS: at 74.50% examples, 502291 words/s, in_qsize 16, out_qsize 0\n",
      "2018-07-30 10:25:35 AM:INFO:PROGRESS: at 74.71% examples, 502463 words/s, in_qsize 14, out_qsize 1\n",
      "2018-07-30 10:25:36 AM:INFO:PROGRESS: at 74.93% examples, 502684 words/s, in_qsize 15, out_qsize 0\n",
      "2018-07-30 10:25:37 AM:INFO:PROGRESS: at 75.15% examples, 502938 words/s, in_qsize 15, out_qsize 0\n",
      "2018-07-30 10:25:38 AM:INFO:PROGRESS: at 75.38% examples, 503182 words/s, in_qsize 15, out_qsize 0\n",
      "2018-07-30 10:25:39 AM:INFO:PROGRESS: at 75.59% examples, 503291 words/s, in_qsize 15, out_qsize 0\n",
      "2018-07-30 10:25:40 AM:INFO:PROGRESS: at 75.79% examples, 503427 words/s, in_qsize 15, out_qsize 0\n",
      "2018-07-30 10:25:41 AM:INFO:PROGRESS: at 76.00% examples, 503530 words/s, in_qsize 14, out_qsize 1\n",
      "2018-07-30 10:25:42 AM:INFO:PROGRESS: at 76.22% examples, 503688 words/s, in_qsize 15, out_qsize 0\n",
      "2018-07-30 10:25:43 AM:INFO:PROGRESS: at 76.37% examples, 503417 words/s, in_qsize 14, out_qsize 1\n",
      "2018-07-30 10:25:44 AM:INFO:PROGRESS: at 76.53% examples, 503210 words/s, in_qsize 15, out_qsize 0\n",
      "2018-07-30 10:25:45 AM:INFO:PROGRESS: at 76.69% examples, 502996 words/s, in_qsize 15, out_qsize 0\n",
      "2018-07-30 10:25:46 AM:INFO:PROGRESS: at 76.83% examples, 502740 words/s, in_qsize 15, out_qsize 0\n",
      "2018-07-30 10:25:47 AM:INFO:PROGRESS: at 76.99% examples, 502519 words/s, in_qsize 14, out_qsize 1\n",
      "2018-07-30 10:25:48 AM:INFO:PROGRESS: at 77.14% examples, 502323 words/s, in_qsize 15, out_qsize 0\n",
      "2018-07-30 10:25:49 AM:INFO:PROGRESS: at 77.29% examples, 502118 words/s, in_qsize 15, out_qsize 0\n",
      "2018-07-30 10:25:50 AM:INFO:PROGRESS: at 77.46% examples, 501962 words/s, in_qsize 14, out_qsize 1\n",
      "2018-07-30 10:25:51 AM:INFO:PROGRESS: at 77.68% examples, 502201 words/s, in_qsize 14, out_qsize 1\n",
      "2018-07-30 10:25:52 AM:INFO:PROGRESS: at 77.90% examples, 502420 words/s, in_qsize 15, out_qsize 0\n",
      "2018-07-30 10:25:53 AM:INFO:PROGRESS: at 78.14% examples, 502667 words/s, in_qsize 15, out_qsize 0\n",
      "2018-07-30 10:25:54 AM:INFO:PROGRESS: at 78.36% examples, 502879 words/s, in_qsize 15, out_qsize 0\n",
      "2018-07-30 10:25:55 AM:INFO:PROGRESS: at 78.56% examples, 502992 words/s, in_qsize 15, out_qsize 0\n",
      "2018-07-30 10:25:56 AM:INFO:PROGRESS: at 78.76% examples, 503064 words/s, in_qsize 15, out_qsize 0\n",
      "2018-07-30 10:25:57 AM:INFO:PROGRESS: at 78.97% examples, 503175 words/s, in_qsize 15, out_qsize 0\n",
      "2018-07-30 10:25:58 AM:INFO:PROGRESS: at 79.16% examples, 503215 words/s, in_qsize 15, out_qsize 0\n",
      "2018-07-30 10:26:00 AM:INFO:PROGRESS: at 79.31% examples, 503008 words/s, in_qsize 15, out_qsize 0\n",
      "2018-07-30 10:26:01 AM:INFO:PROGRESS: at 79.47% examples, 502827 words/s, in_qsize 15, out_qsize 0\n",
      "2018-07-30 10:26:02 AM:INFO:PROGRESS: at 79.62% examples, 502608 words/s, in_qsize 15, out_qsize 0\n",
      "2018-07-30 10:26:03 AM:INFO:PROGRESS: at 79.79% examples, 502515 words/s, in_qsize 15, out_qsize 0\n",
      "2018-07-30 10:26:04 AM:INFO:PROGRESS: at 80.01% examples, 502736 words/s, in_qsize 15, out_qsize 0\n",
      "2018-07-30 10:26:05 AM:INFO:PROGRESS: at 80.22% examples, 502972 words/s, in_qsize 15, out_qsize 0\n",
      "2018-07-30 10:26:06 AM:INFO:PROGRESS: at 80.43% examples, 503178 words/s, in_qsize 15, out_qsize 0\n",
      "2018-07-30 10:26:07 AM:INFO:PROGRESS: at 80.62% examples, 503352 words/s, in_qsize 15, out_qsize 0\n",
      "2018-07-30 10:26:08 AM:INFO:PROGRESS: at 80.80% examples, 503431 words/s, in_qsize 15, out_qsize 0\n",
      "2018-07-30 10:26:09 AM:INFO:PROGRESS: at 81.00% examples, 503566 words/s, in_qsize 15, out_qsize 0\n",
      "2018-07-30 10:26:10 AM:INFO:PROGRESS: at 81.20% examples, 503706 words/s, in_qsize 15, out_qsize 0\n",
      "2018-07-30 10:26:11 AM:INFO:PROGRESS: at 81.36% examples, 503645 words/s, in_qsize 15, out_qsize 0\n",
      "2018-07-30 10:26:12 AM:INFO:PROGRESS: at 81.50% examples, 503445 words/s, in_qsize 15, out_qsize 0\n",
      "2018-07-30 10:26:13 AM:INFO:PROGRESS: at 81.65% examples, 503229 words/s, in_qsize 15, out_qsize 0\n",
      "2018-07-30 10:26:14 AM:INFO:PROGRESS: at 81.79% examples, 503041 words/s, in_qsize 15, out_qsize 0\n",
      "2018-07-30 10:26:15 AM:INFO:PROGRESS: at 81.92% examples, 502837 words/s, in_qsize 15, out_qsize 0\n",
      "2018-07-30 10:26:16 AM:INFO:PROGRESS: at 82.05% examples, 502596 words/s, in_qsize 15, out_qsize 0\n",
      "2018-07-30 10:26:17 AM:INFO:PROGRESS: at 82.19% examples, 502384 words/s, in_qsize 15, out_qsize 0\n",
      "2018-07-30 10:26:18 AM:INFO:PROGRESS: at 82.33% examples, 502185 words/s, in_qsize 14, out_qsize 1\n",
      "2018-07-30 10:26:19 AM:INFO:PROGRESS: at 82.50% examples, 502191 words/s, in_qsize 15, out_qsize 0\n",
      "2018-07-30 10:26:20 AM:INFO:PROGRESS: at 82.70% examples, 502430 words/s, in_qsize 15, out_qsize 0\n",
      "2018-07-30 10:26:21 AM:INFO:PROGRESS: at 82.90% examples, 502634 words/s, in_qsize 15, out_qsize 0\n",
      "2018-07-30 10:26:22 AM:INFO:PROGRESS: at 83.11% examples, 502870 words/s, in_qsize 15, out_qsize 0\n",
      "2018-07-30 10:26:23 AM:INFO:PROGRESS: at 83.29% examples, 503025 words/s, in_qsize 15, out_qsize 0\n",
      "2018-07-30 10:26:24 AM:INFO:PROGRESS: at 83.48% examples, 503119 words/s, in_qsize 15, out_qsize 0\n",
      "2018-07-30 10:26:25 AM:INFO:PROGRESS: at 83.67% examples, 503269 words/s, in_qsize 15, out_qsize 1\n",
      "2018-07-30 10:26:26 AM:INFO:PROGRESS: at 83.86% examples, 503333 words/s, in_qsize 15, out_qsize 0\n",
      "2018-07-30 10:26:27 AM:INFO:PROGRESS: at 84.00% examples, 503246 words/s, in_qsize 15, out_qsize 0\n",
      "2018-07-30 10:26:28 AM:INFO:PROGRESS: at 84.14% examples, 503041 words/s, in_qsize 15, out_qsize 0\n",
      "2018-07-30 10:26:29 AM:INFO:PROGRESS: at 84.28% examples, 502850 words/s, in_qsize 15, out_qsize 0\n",
      "2018-07-30 10:26:30 AM:INFO:PROGRESS: at 84.41% examples, 502626 words/s, in_qsize 15, out_qsize 0\n",
      "2018-07-30 10:26:31 AM:INFO:PROGRESS: at 84.54% examples, 502442 words/s, in_qsize 15, out_qsize 0\n",
      "2018-07-30 10:26:32 AM:INFO:PROGRESS: at 84.69% examples, 502230 words/s, in_qsize 15, out_qsize 0\n",
      "2018-07-30 10:26:33 AM:INFO:PROGRESS: at 84.82% examples, 502065 words/s, in_qsize 16, out_qsize 0\n",
      "2018-07-30 10:26:34 AM:INFO:PROGRESS: at 84.96% examples, 501855 words/s, in_qsize 15, out_qsize 0\n",
      "2018-07-30 10:26:35 AM:INFO:PROGRESS: at 85.16% examples, 501983 words/s, in_qsize 16, out_qsize 0\n"
     ]
    },
    {
     "name": "stderr",
     "output_type": "stream",
     "text": [
      "2018-07-30 10:26:36 AM:INFO:PROGRESS: at 85.35% examples, 502124 words/s, in_qsize 15, out_qsize 0\n",
      "2018-07-30 10:26:37 AM:INFO:PROGRESS: at 85.55% examples, 502330 words/s, in_qsize 15, out_qsize 0\n",
      "2018-07-30 10:26:38 AM:INFO:PROGRESS: at 85.75% examples, 502539 words/s, in_qsize 15, out_qsize 0\n",
      "2018-07-30 10:26:39 AM:INFO:PROGRESS: at 85.94% examples, 502663 words/s, in_qsize 15, out_qsize 0\n",
      "2018-07-30 10:26:40 AM:INFO:PROGRESS: at 86.13% examples, 502776 words/s, in_qsize 15, out_qsize 0\n",
      "2018-07-30 10:26:41 AM:INFO:PROGRESS: at 86.31% examples, 502908 words/s, in_qsize 15, out_qsize 0\n",
      "2018-07-30 10:26:42 AM:INFO:PROGRESS: at 86.49% examples, 503009 words/s, in_qsize 15, out_qsize 0\n",
      "2018-07-30 10:26:43 AM:INFO:PROGRESS: at 86.63% examples, 502862 words/s, in_qsize 15, out_qsize 0\n",
      "2018-07-30 10:26:44 AM:INFO:PROGRESS: at 86.77% examples, 502678 words/s, in_qsize 15, out_qsize 0\n",
      "2018-07-30 10:26:45 AM:INFO:PROGRESS: at 86.90% examples, 502465 words/s, in_qsize 15, out_qsize 0\n",
      "2018-07-30 10:26:46 AM:INFO:PROGRESS: at 87.03% examples, 502249 words/s, in_qsize 15, out_qsize 0\n",
      "2018-07-30 10:26:47 AM:INFO:PROGRESS: at 87.22% examples, 502397 words/s, in_qsize 15, out_qsize 0\n",
      "2018-07-30 10:26:48 AM:INFO:PROGRESS: at 87.42% examples, 502579 words/s, in_qsize 14, out_qsize 1\n",
      "2018-07-30 10:26:49 AM:INFO:PROGRESS: at 87.63% examples, 502784 words/s, in_qsize 15, out_qsize 0\n",
      "2018-07-30 10:26:50 AM:INFO:PROGRESS: at 87.82% examples, 502986 words/s, in_qsize 15, out_qsize 0\n",
      "2018-07-30 10:26:51 AM:INFO:PROGRESS: at 88.01% examples, 503107 words/s, in_qsize 14, out_qsize 1\n",
      "2018-07-30 10:26:52 AM:INFO:PROGRESS: at 88.20% examples, 503227 words/s, in_qsize 15, out_qsize 0\n",
      "2018-07-30 10:26:53 AM:INFO:PROGRESS: at 88.39% examples, 503326 words/s, in_qsize 15, out_qsize 0\n",
      "2018-07-30 10:26:54 AM:INFO:PROGRESS: at 88.57% examples, 503432 words/s, in_qsize 15, out_qsize 0\n",
      "2018-07-30 10:26:55 AM:INFO:PROGRESS: at 88.72% examples, 503264 words/s, in_qsize 16, out_qsize 0\n",
      "2018-07-30 10:26:56 AM:INFO:PROGRESS: at 88.85% examples, 503024 words/s, in_qsize 15, out_qsize 0\n",
      "2018-07-30 10:26:57 AM:INFO:PROGRESS: at 88.98% examples, 502854 words/s, in_qsize 15, out_qsize 0\n",
      "2018-07-30 10:26:58 AM:INFO:PROGRESS: at 89.13% examples, 502658 words/s, in_qsize 15, out_qsize 0\n",
      "2018-07-30 10:26:59 AM:INFO:PROGRESS: at 89.28% examples, 502469 words/s, in_qsize 15, out_qsize 0\n",
      "2018-07-30 10:27:00 AM:INFO:PROGRESS: at 89.44% examples, 502269 words/s, in_qsize 15, out_qsize 0\n",
      "2018-07-30 10:27:01 AM:INFO:PROGRESS: at 89.59% examples, 502080 words/s, in_qsize 14, out_qsize 1\n",
      "2018-07-30 10:27:02 AM:INFO:PROGRESS: at 89.74% examples, 501930 words/s, in_qsize 15, out_qsize 0\n",
      "2018-07-30 10:27:03 AM:INFO:PROGRESS: at 89.97% examples, 502127 words/s, in_qsize 15, out_qsize 0\n",
      "2018-07-30 10:27:04 AM:INFO:PROGRESS: at 90.19% examples, 502332 words/s, in_qsize 15, out_qsize 0\n",
      "2018-07-30 10:27:05 AM:INFO:PROGRESS: at 90.42% examples, 502540 words/s, in_qsize 14, out_qsize 1\n",
      "2018-07-30 10:27:06 AM:INFO:PROGRESS: at 90.63% examples, 502690 words/s, in_qsize 15, out_qsize 0\n",
      "2018-07-30 10:27:07 AM:INFO:PROGRESS: at 90.84% examples, 502788 words/s, in_qsize 14, out_qsize 1\n",
      "2018-07-30 10:27:08 AM:INFO:PROGRESS: at 91.06% examples, 502912 words/s, in_qsize 15, out_qsize 0\n",
      "2018-07-30 10:27:09 AM:INFO:PROGRESS: at 91.26% examples, 502993 words/s, in_qsize 15, out_qsize 0\n",
      "2018-07-30 10:27:10 AM:INFO:PROGRESS: at 91.46% examples, 503073 words/s, in_qsize 14, out_qsize 1\n",
      "2018-07-30 10:27:12 AM:INFO:PROGRESS: at 91.61% examples, 502875 words/s, in_qsize 15, out_qsize 0\n",
      "2018-07-30 10:27:13 AM:INFO:PROGRESS: at 91.77% examples, 502704 words/s, in_qsize 15, out_qsize 0\n",
      "2018-07-30 10:27:14 AM:INFO:PROGRESS: at 91.92% examples, 502511 words/s, in_qsize 15, out_qsize 0\n",
      "2018-07-30 10:27:15 AM:INFO:PROGRESS: at 92.09% examples, 502405 words/s, in_qsize 15, out_qsize 0\n",
      "2018-07-30 10:27:16 AM:INFO:PROGRESS: at 92.31% examples, 502578 words/s, in_qsize 15, out_qsize 0\n",
      "2018-07-30 10:27:17 AM:INFO:PROGRESS: at 92.53% examples, 502776 words/s, in_qsize 15, out_qsize 0\n",
      "2018-07-30 10:27:18 AM:INFO:PROGRESS: at 92.76% examples, 502959 words/s, in_qsize 15, out_qsize 0\n",
      "2018-07-30 10:27:19 AM:INFO:PROGRESS: at 92.99% examples, 503126 words/s, in_qsize 15, out_qsize 0\n",
      "2018-07-30 10:27:20 AM:INFO:PROGRESS: at 93.20% examples, 503239 words/s, in_qsize 15, out_qsize 0\n",
      "2018-07-30 10:27:21 AM:INFO:PROGRESS: at 93.41% examples, 503345 words/s, in_qsize 14, out_qsize 1\n",
      "2018-07-30 10:27:22 AM:INFO:PROGRESS: at 93.62% examples, 503429 words/s, in_qsize 15, out_qsize 0\n",
      "2018-07-30 10:27:23 AM:INFO:PROGRESS: at 93.81% examples, 503456 words/s, in_qsize 15, out_qsize 0\n",
      "2018-07-30 10:27:24 AM:INFO:PROGRESS: at 93.97% examples, 503274 words/s, in_qsize 15, out_qsize 0\n",
      "2018-07-30 10:27:25 AM:INFO:PROGRESS: at 94.12% examples, 503076 words/s, in_qsize 15, out_qsize 0\n",
      "2018-07-30 10:27:26 AM:INFO:PROGRESS: at 94.27% examples, 502878 words/s, in_qsize 15, out_qsize 0\n",
      "2018-07-30 10:27:27 AM:INFO:PROGRESS: at 94.43% examples, 502714 words/s, in_qsize 15, out_qsize 0\n",
      "2018-07-30 10:27:28 AM:INFO:PROGRESS: at 94.57% examples, 502527 words/s, in_qsize 15, out_qsize 0\n",
      "2018-07-30 10:27:29 AM:INFO:PROGRESS: at 94.72% examples, 502336 words/s, in_qsize 15, out_qsize 0\n",
      "2018-07-30 10:27:30 AM:INFO:PROGRESS: at 94.88% examples, 502186 words/s, in_qsize 15, out_qsize 0\n",
      "2018-07-30 10:27:31 AM:INFO:PROGRESS: at 95.05% examples, 502116 words/s, in_qsize 14, out_qsize 1\n",
      "2018-07-30 10:27:32 AM:INFO:PROGRESS: at 95.28% examples, 502318 words/s, in_qsize 15, out_qsize 0\n",
      "2018-07-30 10:27:33 AM:INFO:PROGRESS: at 95.51% examples, 502513 words/s, in_qsize 15, out_qsize 0\n",
      "2018-07-30 10:27:34 AM:INFO:PROGRESS: at 95.74% examples, 502697 words/s, in_qsize 15, out_qsize 0\n",
      "2018-07-30 10:27:35 AM:INFO:PROGRESS: at 95.96% examples, 502876 words/s, in_qsize 15, out_qsize 0\n",
      "2018-07-30 10:27:36 AM:INFO:PROGRESS: at 96.17% examples, 502950 words/s, in_qsize 15, out_qsize 0\n",
      "2018-07-30 10:27:37 AM:INFO:PROGRESS: at 96.37% examples, 503021 words/s, in_qsize 15, out_qsize 0\n",
      "2018-07-30 10:27:38 AM:INFO:PROGRESS: at 96.59% examples, 503121 words/s, in_qsize 15, out_qsize 0\n",
      "2018-07-30 10:27:39 AM:INFO:PROGRESS: at 96.76% examples, 503090 words/s, in_qsize 15, out_qsize 0\n",
      "2018-07-30 10:27:40 AM:INFO:PROGRESS: at 96.92% examples, 502908 words/s, in_qsize 15, out_qsize 0\n",
      "2018-07-30 10:27:41 AM:INFO:PROGRESS: at 97.07% examples, 502757 words/s, in_qsize 15, out_qsize 0\n",
      "2018-07-30 10:27:42 AM:INFO:PROGRESS: at 97.21% examples, 502568 words/s, in_qsize 15, out_qsize 0\n",
      "2018-07-30 10:27:43 AM:INFO:PROGRESS: at 97.40% examples, 502576 words/s, in_qsize 15, out_qsize 0\n",
      "2018-07-30 10:27:44 AM:INFO:PROGRESS: at 97.62% examples, 502763 words/s, in_qsize 15, out_qsize 0\n",
      "2018-07-30 10:27:45 AM:INFO:PROGRESS: at 97.85% examples, 502961 words/s, in_qsize 15, out_qsize 0\n",
      "2018-07-30 10:27:46 AM:INFO:PROGRESS: at 98.08% examples, 503095 words/s, in_qsize 15, out_qsize 0\n",
      "2018-07-30 10:27:47 AM:INFO:PROGRESS: at 98.30% examples, 503220 words/s, in_qsize 14, out_qsize 1\n",
      "2018-07-30 10:27:48 AM:INFO:PROGRESS: at 98.51% examples, 503348 words/s, in_qsize 15, out_qsize 0\n",
      "2018-07-30 10:27:49 AM:INFO:PROGRESS: at 98.71% examples, 503444 words/s, in_qsize 16, out_qsize 1\n",
      "2018-07-30 10:27:50 AM:INFO:PROGRESS: at 98.92% examples, 503526 words/s, in_qsize 15, out_qsize 0\n",
      "2018-07-30 10:27:51 AM:INFO:PROGRESS: at 99.09% examples, 503440 words/s, in_qsize 15, out_qsize 0\n",
      "2018-07-30 10:27:52 AM:INFO:PROGRESS: at 99.25% examples, 503281 words/s, in_qsize 15, out_qsize 0\n",
      "2018-07-30 10:27:53 AM:INFO:PROGRESS: at 99.40% examples, 503101 words/s, in_qsize 15, out_qsize 0\n",
      "2018-07-30 10:27:54 AM:INFO:PROGRESS: at 99.55% examples, 502942 words/s, in_qsize 15, out_qsize 1\n",
      "2018-07-30 10:27:55 AM:INFO:PROGRESS: at 99.71% examples, 502771 words/s, in_qsize 15, out_qsize 0\n",
      "2018-07-30 10:27:56 AM:INFO:PROGRESS: at 99.86% examples, 502569 words/s, in_qsize 15, out_qsize 0\n",
      "2018-07-30 10:27:57 AM:INFO:worker thread finished; awaiting finish of 7 more threads\n",
      "2018-07-30 10:27:57 AM:INFO:worker thread finished; awaiting finish of 6 more threads\n",
      "2018-07-30 10:27:57 AM:INFO:worker thread finished; awaiting finish of 5 more threads\n",
      "2018-07-30 10:27:57 AM:INFO:worker thread finished; awaiting finish of 4 more threads\n"
     ]
    },
    {
     "name": "stderr",
     "output_type": "stream",
     "text": [
      "2018-07-30 10:27:57 AM:INFO:worker thread finished; awaiting finish of 3 more threads\n",
      "2018-07-30 10:27:57 AM:INFO:worker thread finished; awaiting finish of 2 more threads\n",
      "2018-07-30 10:27:57 AM:INFO:worker thread finished; awaiting finish of 1 more threads\n",
      "2018-07-30 10:27:57 AM:INFO:worker thread finished; awaiting finish of 0 more threads\n",
      "2018-07-30 10:27:57 AM:INFO:training on 349524650 raw words (284665161 effective words) took 566.6s, 502439 effective words/s\n",
      "2018-07-30 10:27:57 AM:INFO:saving Word2Vec object under ../data/cache/w2v_word.model, separately None\n",
      "2018-07-30 10:27:57 AM:INFO:storing np array 'syn0' to ../data/cache/w2v_word.model.wv.syn0.npy\n",
      "2018-07-30 10:27:57 AM:INFO:not storing attribute syn0norm\n",
      "2018-07-30 10:27:57 AM:INFO:storing np array 'syn1neg' to ../data/cache/w2v_word.model.syn1neg.npy\n",
      "2018-07-30 10:27:57 AM:INFO:not storing attribute cum_table\n",
      "2018-07-30 10:27:58 AM:INFO:saved ../data/cache/w2v_word.model\n"
     ]
    }
   ],
   "source": [
    "print('Training w2v')\n",
    "model = Word2Vec(LineSentence(Config.cache_path + 'w2v_word.txt'), size=DIM, window=5, min_count=5, workers=multiprocessing.cpu_count())\n",
    "model.save(Config.cache_path+'w2v_word.model')\n",
    "weights = model.wv.syn0\n",
    "vocab = dict([(k, v.index+1) for k, v in model.wv.vocab.items()])"
   ]
  },
  {
   "cell_type": "code",
   "execution_count": 18,
   "metadata": {
    "ExecuteTime": {
     "end_time": "2018-07-30T02:27:59.307288Z",
     "start_time": "2018-07-30T02:27:58.922982Z"
    }
   },
   "outputs": [],
   "source": [
    "embed_weights = np.zeros(shape=(weights.shape[0]+2, weights.shape[1]))\n",
    "embed_weights[1:weights.shape[0]+1] = weights\n",
    "unk_vec = np.random.random(size=weights.shape[1])*.5\n",
    "embed_weights[weights.shape[0]+1] = unk_vec - unk_vec.mean()\n",
    "pickle.dump(vocab, open(Config.cache_path + '/word_embed_.dict.pkl', 'wb'))\n",
    "np.save(Config.cache_path+'word_embed_.npy', embed_weights)\n"
   ]
  },
  {
   "cell_type": "code",
   "execution_count": 19,
   "metadata": {
    "ExecuteTime": {
     "end_time": "2018-07-30T02:31:21.050302Z",
     "start_time": "2018-07-30T02:31:21.029853Z"
    }
   },
   "outputs": [
    {
     "data": {
      "text/plain": [
       "235144"
      ]
     },
     "execution_count": 19,
     "metadata": {},
     "output_type": "execute_result"
    }
   ],
   "source": [
    "len(vocab)"
   ]
  },
  {
   "cell_type": "markdown",
   "metadata": {},
   "source": [
    "# SentencePiece cut"
   ]
  },
  {
   "cell_type": "code",
   "execution_count": 20,
   "metadata": {
    "ExecuteTime": {
     "end_time": "2018-07-30T02:32:44.265621Z",
     "start_time": "2018-07-30T02:31:40.645787Z"
    },
    "collapsed": true
   },
   "outputs": [],
   "source": [
    "import sentencepiece as spm\n",
    "sp = spm.SentencePieceTrainer.Train('--input=../data/cache/w2v.csv --model_prefix=sp --vocab_size=160000')"
   ]
  },
  {
   "cell_type": "code",
   "execution_count": 34,
   "metadata": {
    "ExecuteTime": {
     "end_time": "2018-07-30T02:40:31.212559Z",
     "start_time": "2018-07-30T02:40:31.196339Z"
    },
    "collapsed": true
   },
   "outputs": [],
   "source": [
    "def spcut(content):\n",
    "    with open(Config.cache_path+'sp.txt', 'a+') as f:\n",
    "        f.writelines(\" \".join(sp.EncodeAsPieces(content.encode('utf-8'))))\n",
    "        f.writelines('\\n')"
   ]
  },
  {
   "cell_type": "code",
   "execution_count": 21,
   "metadata": {
    "ExecuteTime": {
     "end_time": "2018-07-30T02:33:49.936976Z",
     "start_time": "2018-07-30T02:33:49.574101Z"
    }
   },
   "outputs": [
    {
     "data": {
      "text/plain": [
       "True"
      ]
     },
     "execution_count": 21,
     "metadata": {},
     "output_type": "execute_result"
    }
   ],
   "source": [
    "sp = spm.SentencePieceProcessor()\n",
    "sp.Load('sp.model')"
   ]
  },
  {
   "cell_type": "code",
   "execution_count": 35,
   "metadata": {
    "ExecuteTime": {
     "end_time": "2018-07-30T02:41:24.039825Z",
     "start_time": "2018-07-30T02:40:32.860724Z"
    },
    "scrolled": true
   },
   "outputs": [],
   "source": [
    "applyPara(contents, spcut, 8) "
   ]
  }
 ],
 "metadata": {
  "kernelspec": {
   "display_name": "Python 3",
   "language": "python",
   "name": "python3"
  },
  "language_info": {
   "codemirror_mode": {
    "name": "ipython",
    "version": 3
   },
   "file_extension": ".py",
   "mimetype": "text/x-python",
   "name": "python",
   "nbconvert_exporter": "python",
   "pygments_lexer": "ipython3",
   "version": "3.6.2"
  },
  "toc": {
   "nav_menu": {},
   "number_sections": true,
   "sideBar": true,
   "skip_h1_title": false,
   "toc_cell": false,
   "toc_position": {},
   "toc_section_display": "block",
   "toc_window_display": false
  },
  "varInspector": {
   "cols": {
    "lenName": 16,
    "lenType": 16,
    "lenVar": 40
   },
   "kernels_config": {
    "python": {
     "delete_cmd_postfix": "",
     "delete_cmd_prefix": "del ",
     "library": "var_list.py",
     "varRefreshCmd": "print(var_dic_list())"
    },
    "r": {
     "delete_cmd_postfix": ") ",
     "delete_cmd_prefix": "rm(",
     "library": "var_list.r",
     "varRefreshCmd": "cat(var_dic_list()) "
    }
   },
   "position": {
    "height": "390px",
    "left": "1548px",
    "right": "20px",
    "top": "120px",
    "width": "350px"
   },
   "types_to_exclude": [
    "module",
    "function",
    "builtin_function_or_method",
    "instance",
    "_Feature"
   ],
   "window_display": true
  }
 },
 "nbformat": 4,
 "nbformat_minor": 2
}
