{
 "cells": [
  {
   "cell_type": "code",
   "execution_count": 1,
   "metadata": {
    "ExecuteTime": {
     "end_time": "2018-07-30T10:33:55.664358Z",
     "start_time": "2018-07-30T10:33:51.299380Z"
    }
   },
   "outputs": [
    {
     "name": "stderr",
     "output_type": "stream",
     "text": [
      "Using TensorFlow backend.\n"
     ]
    }
   ],
   "source": [
    "import os\n",
    "\n",
    "import sys\n",
    "sys.path.append('..')\n",
    "\n",
    "\n",
    "\n",
    "from sklearn.model_selection import train_test_split\n",
    "from pre import *"
   ]
  },
  {
   "cell_type": "code",
   "execution_count": 4,
   "metadata": {
    "ExecuteTime": {
     "end_time": "2018-07-30T10:34:22.319209Z",
     "start_time": "2018-07-30T10:34:22.298965Z"
    },
    "collapsed": true
   },
   "outputs": [],
   "source": [
    "def get_data(data_path, label=True):\n",
    "    data = []\n",
    "    data_error_rows = []\n",
    "    with open(data_path, 'r') as p:\n",
    "        f = p.readlines()\n",
    "    \n",
    "    for line in f:\n",
    "        segs = line.strip().split('\\t')\n",
    "        if len(segs) == (4 if label else 3):\n",
    "            row = {}\n",
    "            row['title'] = segs[1]\n",
    "            row['content'] = segs[2]\n",
    "            if label: row['label'] = label2int[segs[3]]\n",
    "            data.append(row)\n",
    "        elif len(segs) == 2:\n",
    "            rows = {}\n",
    "            row['title'] = segs[1]\n",
    "            row['content'] = \"\"\n",
    "            if label: row['label'] = label2int[segs[2]]\n",
    "            data.append(row)\n",
    "        else:\n",
    "            data_error.rows.append(line)\n",
    "    data = pd.DataFrame(data)\n",
    "    if label:\n",
    "        data = data[['title', 'content', 'label']]\n",
    "    else:\n",
    "        data = data[['title', 'content']]\n",
    "    return data\n",
    "\n",
    "def get_train_data():\n",
    "    result_path = Config.data_path + 'train_data.csv'\n",
    "    result = get_data(Config.train_file)\n",
    "    result.fillna(\"\", inplace=True)\n",
    "    result.to_csv(result_path, index=False, sep='\\t')\n",
    "    return result"
   ]
  },
  {
   "cell_type": "code",
   "execution_count": 2,
   "metadata": {
    "ExecuteTime": {
     "end_time": "2018-07-30T10:33:55.821190Z",
     "start_time": "2018-07-30T10:33:55.798766Z"
    },
    "collapsed": true
   },
   "outputs": [],
   "source": [
    "%reload_ext autoreload\n",
    "%autoreload 2"
   ]
  },
  {
   "cell_type": "code",
   "execution_count": 5,
   "metadata": {
    "ExecuteTime": {
     "end_time": "2018-07-30T10:34:30.182858Z",
     "start_time": "2018-07-30T10:34:25.634397Z"
    }
   },
   "outputs": [],
   "source": [
    "train_data = get_train_data()\n",
    "train, val = train_test_split(train_data, test_size=0.1)"
   ]
  },
  {
   "cell_type": "code",
   "execution_count": null,
   "metadata": {
    "collapsed": true
   },
   "outputs": [],
   "source": [
    "train.to_csv(Config.cache_path + 'trainset.csv', index=False)\n",
    "val.to_csv(Config.cache_path + 'valset.csv', index=False)"
   ]
  },
  {
   "cell_type": "code",
   "execution_count": 4,
   "metadata": {
    "ExecuteTime": {
     "end_time": "2018-07-30T07:04:26.116839Z",
     "start_time": "2018-07-30T07:04:23.696009Z"
    },
    "collapsed": true
   },
   "outputs": [],
   "source": [
    "from WVutils.data import *"
   ]
  },
  {
   "cell_type": "code",
   "execution_count": 9,
   "metadata": {
    "ExecuteTime": {
     "end_time": "2018-07-30T10:37:17.529855Z",
     "start_time": "2018-07-30T10:37:17.514403Z"
    }
   },
   "outputs": [
    {
     "data": {
      "text/plain": [
       "((99000, 3), (11000, 3))"
      ]
     },
     "execution_count": 9,
     "metadata": {},
     "output_type": "execute_result"
    }
   ],
   "source": [
    "train.shape, val.shape"
   ]
  },
  {
   "cell_type": "code",
   "execution_count": 8,
   "metadata": {
    "ExecuteTime": {
     "end_time": "2018-07-30T10:37:06.695981Z",
     "start_time": "2018-07-30T10:37:06.674234Z"
    }
   },
   "outputs": [
    {
     "ename": "NameError",
     "evalue": "name 'train_words' is not defined",
     "output_type": "error",
     "traceback": [
      "\u001b[0;31m---------------------------------------------------------------------------\u001b[0m",
      "\u001b[0;31mNameError\u001b[0m                                 Traceback (most recent call last)",
      "\u001b[0;32m<ipython-input-8-1e2793dc5afd>\u001b[0m in \u001b[0;36m<module>\u001b[0;34m()\u001b[0m\n\u001b[0;32m----> 1\u001b[0;31m \u001b[0mtrain_words\u001b[0m\u001b[0;34m.\u001b[0m\u001b[0mshape\u001b[0m\u001b[0;34m,\u001b[0m \u001b[0mval_words\u001b[0m\u001b[0;34m.\u001b[0m\u001b[0mshape\u001b[0m\u001b[0;34m\u001b[0m\u001b[0m\n\u001b[0m",
      "\u001b[0;31mNameError\u001b[0m: name 'train_words' is not defined"
     ]
    }
   ],
   "source": [
    "train_words.shape, val_words.shape"
   ]
  },
  {
   "cell_type": "code",
   "execution_count": 36,
   "metadata": {
    "ExecuteTime": {
     "end_time": "2018-07-30T07:23:22.129469Z",
     "start_time": "2018-07-30T07:19:22.406297Z"
    },
    "collapsed": true
   },
   "outputs": [],
   "source": [
    "train_words = word_han_preprocess(train.content.values)"
   ]
  },
  {
   "cell_type": "code",
   "execution_count": 9,
   "metadata": {
    "ExecuteTime": {
     "end_time": "2018-07-30T07:07:46.440024Z",
     "start_time": "2018-07-30T07:07:21.975730Z"
    },
    "collapsed": true
   },
   "outputs": [],
   "source": [
    "val_words = word_han_preprocess(val.content.values)"
   ]
  },
  {
   "cell_type": "code",
   "execution_count": 43,
   "metadata": {
    "ExecuteTime": {
     "end_time": "2018-07-30T07:34:32.770662Z",
     "start_time": "2018-07-30T07:34:32.755979Z"
    }
   },
   "outputs": [
    {
     "data": {
      "text/plain": [
       "(45, 48)"
      ]
     },
     "execution_count": 43,
     "metadata": {},
     "output_type": "execute_result"
    }
   ],
   "source": [
    "train_words[1].shape"
   ]
  }
 ],
 "metadata": {
  "kernelspec": {
   "display_name": "Python 3",
   "language": "python",
   "name": "python3"
  },
  "language_info": {
   "codemirror_mode": {
    "name": "ipython",
    "version": 3
   },
   "file_extension": ".py",
   "mimetype": "text/x-python",
   "name": "python",
   "nbconvert_exporter": "python",
   "pygments_lexer": "ipython3",
   "version": "3.6.2"
  },
  "toc": {
   "nav_menu": {},
   "number_sections": true,
   "sideBar": true,
   "skip_h1_title": false,
   "toc_cell": false,
   "toc_position": {},
   "toc_section_display": "block",
   "toc_window_display": false
  },
  "varInspector": {
   "cols": {
    "lenName": 16,
    "lenType": 16,
    "lenVar": 40
   },
   "kernels_config": {
    "python": {
     "delete_cmd_postfix": "",
     "delete_cmd_prefix": "del ",
     "library": "var_list.py",
     "varRefreshCmd": "print(var_dic_list())"
    },
    "r": {
     "delete_cmd_postfix": ") ",
     "delete_cmd_prefix": "rm(",
     "library": "var_list.r",
     "varRefreshCmd": "cat(var_dic_list()) "
    }
   },
   "position": {
    "height": "410px",
    "left": "1445px",
    "right": "20px",
    "top": "3px",
    "width": "479px"
   },
   "types_to_exclude": [
    "module",
    "function",
    "builtin_function_or_method",
    "instance",
    "_Feature"
   ],
   "window_display": true
  }
 },
 "nbformat": 4,
 "nbformat_minor": 2
}
